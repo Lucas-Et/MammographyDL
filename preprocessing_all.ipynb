{
 "cells": [
  {
   "cell_type": "code",
   "execution_count": 1,
   "metadata": {},
   "outputs": [
    {
     "ename": "ModuleNotFoundError",
     "evalue": "No module named 'tqdm'",
     "output_type": "error",
     "traceback": [
      "\u001b[1;31m---------------------------------------------------------------------------\u001b[0m",
      "\u001b[1;31mModuleNotFoundError\u001b[0m                       Traceback (most recent call last)",
      "\u001b[1;32m<ipython-input-1-7feb4598a1d9>\u001b[0m in \u001b[0;36m<module>\u001b[1;34m\u001b[0m\n\u001b[0;32m      1\u001b[0m \u001b[1;32mimport\u001b[0m \u001b[0mpydicom\u001b[0m\u001b[1;33m\u001b[0m\u001b[1;33m\u001b[0m\u001b[0m\n\u001b[0;32m      2\u001b[0m \u001b[1;32mimport\u001b[0m \u001b[0mtime\u001b[0m\u001b[1;33m\u001b[0m\u001b[1;33m\u001b[0m\u001b[0m\n\u001b[1;32m----> 3\u001b[1;33m \u001b[1;32mfrom\u001b[0m \u001b[0mtqdm\u001b[0m \u001b[1;32mimport\u001b[0m \u001b[0mtqdm\u001b[0m\u001b[1;33m\u001b[0m\u001b[1;33m\u001b[0m\u001b[0m\n\u001b[0m\u001b[0;32m      4\u001b[0m \u001b[1;32mfrom\u001b[0m \u001b[0mitertools\u001b[0m \u001b[1;32mimport\u001b[0m \u001b[0mchain\u001b[0m\u001b[1;33m\u001b[0m\u001b[1;33m\u001b[0m\u001b[0m\n\u001b[0;32m      5\u001b[0m \u001b[1;32mimport\u001b[0m \u001b[0mos\u001b[0m\u001b[1;33m\u001b[0m\u001b[1;33m\u001b[0m\u001b[0m\n",
      "\u001b[1;31mModuleNotFoundError\u001b[0m: No module named 'tqdm'"
     ]
    }
   ],
   "source": [
    "import pydicom\n",
    "import time\n",
    "from tqdm import tqdm\n",
    "from itertools import chain\n",
    "import os\n",
    "import numpy\n",
    "from matplotlib import pyplot, cm\n",
    "import cv2\n",
    "import pandas as pd\n",
    "from keras.utils import to_categorical, Sequence\n",
    "from keras.preprocessing.image import ImageDataGenerator\n",
    "from keras.applications import VGG16\n",
    "from keras import models\n",
    "from keras import layers\n",
    "from keras import optimizers"
   ]
  },
  {
   "cell_type": "code",
   "execution_count": 37,
   "metadata": {},
   "outputs": [],
   "source": [
    "# Look for all cropped images given in dataframes \"paths_dicom_df\" in the folder \"pth_folder_dicom\", \n",
    "# apply CLAHE algorithm if wanted, and record new JPEG images in \"path_jpg\"\n",
    "# Also creates and record the data frame necessary for the Keras image generator\n",
    "def dicom_to_jpg_with_df(paths_dicom_df, pth_folder_dicom, path_jpg, labels_df_name, ENHANCE=True):\n",
    "    clahe1 = cv2.createCLAHE(clipLimit=3.0, tileGridSize=(6,6)) #CLAHE for local contrast enhancing\n",
    "    clahe2 = cv2.createCLAHE(clipLimit=3.0, tileGridSize=(8,8))\n",
    "    clahe3 = cv2.createCLAHE(clipLimit=3.0, tileGridSize=(10,10))\n",
    "    threshold1 = 250*250\n",
    "    threshold2 = 400*400\n",
    "    i=0\n",
    "    dict_for_df = {'filename':[], 'pathology':[]}\n",
    "    for df_path in paths_dicom_df:\n",
    "        df = pd.read_csv(df_path, sep=';', header=0)\n",
    "        df.dropna(0, inplace=True, how='all') # Remove fully empty rows\n",
    "        df.reset_index(drop=True, inplace=True)\n",
    "        for index, row in df.iterrows():\n",
    "            foldername = row[\"cropped image file path\"]\n",
    "            arg_list = foldername.split('/')\n",
    "            path = os.path.join(path_dicom_folder_test, arg_list[0])\n",
    "            dict_for_df['filename'].append(arg_list[0])\n",
    "            dict_for_df['pathology'].append(row.pathology)\n",
    "            for dirName, subdirList, fileList in os.walk(path):\n",
    "                for filename in fileList:\n",
    "                    filepath = os.path.join(dirName, filename)\n",
    "                    dic = pydicom.read_file(filepath)\n",
    "                    if (dic.SeriesDescription == \"cropped images\"):  # check whether the file's segmented image\n",
    "                        pixels = dic.pixel_array\n",
    "                        size = pixels.size\n",
    "                        if ENHANCE:\n",
    "                            if size<threshold1:\n",
    "                                pixels = clahe1.apply(pixels) \n",
    "                            elif size<threshold2:\n",
    "                                pixels = clahe2.apply(pixels)\n",
    "                            else:\n",
    "                                pixels = clahe3.apply(pixels)\n",
    "                        cv2.imwrite(os.path.join(path_jpg, arg_list[0]), pixels/256., [int(cv2.IMWRITE_JPEG_QUALITY), 100])\n",
    "                        i+=1\n",
    "    df_returned = pd.DataFrame(data=dict_for_df)\n",
    "    df.to_pickle(labels_df_name)"
   ]
  },
  {
   "cell_type": "code",
   "execution_count": 38,
   "metadata": {},
   "outputs": [],
   "source": [
    "path_train_mass_df = \"\"\n",
    "path_train_calc_df = \"\"\n",
    "path_test_mass_df = \"./../CBIS-DDSM/mass_case_description_test_set.csv\"\n",
    "path_test_calc_df = \"\"\n",
    "\n",
    "path_dicom_folder_test = \"./../CBIS-DDSM/Mix_crop_test_mass/CBIS-DDSM\"\n",
    "\n",
    "path_jpg_folder_test = \"./../CBIS-DDSM/crop_test_mass_jpg/\"\n",
    "\n",
    "dicom_to_jpg([path_test_mass_df], path_dicom_folder_test, path_jpg_folder_test)"
   ]
  }
 ],
 "metadata": {
  "kernelspec": {
   "display_name": "Python (tens)",
   "language": "python",
   "name": "tens"
  },
  "language_info": {
   "codemirror_mode": {
    "name": "ipython",
    "version": 3
   },
   "file_extension": ".py",
   "mimetype": "text/x-python",
   "name": "python",
   "nbconvert_exporter": "python",
   "pygments_lexer": "ipython3",
   "version": "3.6.8"
  }
 },
 "nbformat": 4,
 "nbformat_minor": 2
}

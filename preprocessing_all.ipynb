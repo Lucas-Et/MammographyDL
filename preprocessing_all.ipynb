{
 "cells": [
  {
   "cell_type": "code",
   "execution_count": 2,
   "metadata": {},
   "outputs": [
    {
     "name": "stderr",
     "output_type": "stream",
     "text": [
      "Using TensorFlow backend.\n"
     ]
    }
   ],
   "source": [
    "import pydicom\n",
    "from itertools import chain\n",
    "import os\n",
    "import numpy\n",
    "from matplotlib import pyplot, cm\n",
    "import cv2\n",
    "import pandas as pd\n",
    "from keras.utils import to_categorical, Sequence\n",
    "from keras.preprocessing.image import ImageDataGenerator\n",
    "from keras.applications import VGG16\n",
    "from keras import models\n",
    "from keras import layers\n",
    "from keras import optimizers"
   ]
  },
  {
   "cell_type": "markdown",
   "metadata": {},
   "source": [
    "## Creation of Datasets and Dataframe, to use the Image Data Generator with keras flow_from_dataframe"
   ]
  },
  {
   "cell_type": "markdown",
   "metadata": {},
   "source": [
    "### Also appplying CLAHE algorithm on data"
   ]
  },
  {
   "cell_type": "code",
   "execution_count": 60,
   "metadata": {},
   "outputs": [],
   "source": [
    "# Look for all cropped images given in dataframes \"paths_dicom_df\" in the folder \"pth_folder_dicom\", \n",
    "# apply CLAHE algorithm if wanted, and record new JPEG images in \"path_jpg\"\n",
    "# Also creates and record the data frame necessary for the Keras image generator\n",
    "def dicom_to_jpg_with_df(paths_dicom_df, pth_folder_dicom, path_jpg, ENHANCE=True):\n",
    "    clahe1 = cv2.createCLAHE(clipLimit=3.0, tileGridSize=(6,6)) #CLAHE for local contrast enhancing\n",
    "    clahe2 = cv2.createCLAHE(clipLimit=3.0, tileGridSize=(8,8))\n",
    "    clahe3 = cv2.createCLAHE(clipLimit=3.0, tileGridSize=(10,10))\n",
    "    threshold1 = 250*250\n",
    "    threshold2 = 400*400\n",
    "    i=0\n",
    "    dict_for_df = {'filename':[], 'pathology':[]}\n",
    "    for df_path in paths_dicom_df:\n",
    "        df = pd.read_csv(df_path, sep=',', header=0, engine='python', quotechar='\"')\n",
    "        df.dropna(0, inplace=True, how='all') # Remove fully empty rows\n",
    "        df.reset_index(drop=True, inplace=True)\n",
    "        for index, row in df.iterrows():\n",
    "            foldername = row[\"cropped image file path\"]\n",
    "            arg_list = foldername.split('/')\n",
    "            path = os.path.join(pth_folder_dicom, arg_list[0])\n",
    "            dict_for_df['filename'].append(arg_list[0])\n",
    "            dict_for_df['pathology'].append(row.pathology)\n",
    "            for dirName, subdirList, fileList in os.walk(path):\n",
    "                for filename in fileList:\n",
    "                    filepath = os.path.join(dirName, filename)\n",
    "                    dic = pydicom.read_file(filepath)\n",
    "                    if (dic.SeriesDescription == \"cropped images\"):  # check whether the file's segmented image\n",
    "                        pixels = dic.pixel_array\n",
    "                        size = pixels.size\n",
    "                        if ENHANCE:\n",
    "                            if size<threshold1:\n",
    "                                pixels = clahe1.apply(pixels) \n",
    "                            elif size<threshold2:\n",
    "                                pixels = clahe2.apply(pixels)\n",
    "                            else:\n",
    "                                pixels = clahe3.apply(pixels)\n",
    "                        cv2.imwrite(os.path.join(path_jpg, arg_list[0])+\".jpg\", pixels/255., [int(cv2.IMWRITE_JPEG_QUALITY), 100])\n",
    "                        i+=1\n",
    "    df_returned = pd.DataFrame(data=dict_for_df)\n",
    "    df_returned.pathology[df_returned.pathology == 'BENIGN_WITHOUT_CALLBACK'] = 'BENIGN'\n",
    "    return df_returned\n",
    "    "
   ]
  },
  {
   "cell_type": "code",
   "execution_count": 61,
   "metadata": {},
   "outputs": [],
   "source": [
    "path_train_mass_df = \"D:\\\\datas\\\\Mammographies\\\\mass_case_description_train_set.csv\"\n",
    "path_train_calc_df = \"D:\\\\datas\\\\Mammographies\\\\calc_case_description_train_set.csv\"\n",
    "path_test_mass_df = \"D:\\\\datas\\\\Mammographies\\\\mass_case_description_test_set.csv\"\n",
    "path_test_calc_df = \"D:\\\\datas\\\\Mammographies\\\\calc_case_description_train_set.csv\"\n",
    "\n",
    "path_dicom_folder = \"D:\\\\datas\\Mammographies\\\\CBIS-DDSM\"\n",
    "\n",
    "path_train_crop_jpg = \"D:\\\\datas\\\\Mammographies\\\\mass_and_calc_crop_train\\\\\"\n",
    "path_test_crop_jpg = \"D:\\\\datas\\\\Mammographies\\\\mass_and_calc_crop_test\\\\\"\n",
    "\n",
    "df_test = dicom_to_jpg_with_df([path_test_mass_df, path_test_calc_df], path_dicom_folder, path_test_crop_jpg)\n",
    "df_test.to_csv(\"test_labels.csv\")\n",
    "\n",
    "df_train = dicom_to_jpg_with_df([path_train_mass_df, path_train_calc_df], path_dicom_folder, path_train_crop_jpg)\n",
    "df_train.to_csv(\"train_labels.csv\")"
   ]
  },
  {
   "cell_type": "markdown",
   "metadata": {},
   "source": [
    "## Feature extraction"
   ]
  },
  {
   "cell_type": "code",
   "execution_count": null,
   "metadata": {},
   "outputs": [],
   "source": [
    "def extract_features(dataframe, directory, sample_count, subset):\n",
    "    features = numpy.zeros(shape=(sample_count, 7, 7, 512))  # Must be equal to the output of the convolutional base\n",
    "    labels = numpy.zeros(shape=(sample_count, 2))\n",
    "    # Preprocess data\n",
    "    generator = datagen.flow_from_dataframe(\n",
    "        dataframe=dataframe, \n",
    "        directory=directory, \n",
    "        x_col=\"filename\", y_col=\"pathology\", class_mode=\"binary\",\n",
    "        target_size=(224,224), \n",
    "        batch_size=batch_size, shuffle=True, \n",
    "        interpolation=\"bilinear\",\n",
    "        subset=subset)\n",
    "    # Pass data through convolutional base\n",
    "    i = 0\n",
    "    inputs_batch, labels = next(generator)\n",
    "    features = conv_base.predict(inputs_batch)\n",
    "    for inputs_batch, labels_batch in generator:\n",
    "        features_batch = conv_base.predict(inputs_batch)\n",
    "        features = numpy.concatenate((features, features_batch), axis=0)\n",
    "        labels = numpy.concatenate((labels, labels_batch), axis=0)\n",
    "        i += 1\n",
    "        if i * batch_size >= sample_count:\n",
    "            break\n",
    "    return features, labels\n",
    "\n",
    "# Computes the total number of samples used for training phase after augmentation\n",
    "def compute_num_samples(data_size, validation_ratio, aug_factor):\n",
    "    train_size = int((1-validation_ratio) * data_size * aug_factor)\n",
    "    return train_size"
   ]
  },
  {
   "cell_type": "code",
   "execution_count": null,
   "metadata": {},
   "outputs": [],
   "source": [
    "valid_ratio = 0.3\n",
    "batch_size = 32\n",
    "augmentation = 3\n",
    "data_size = df.shape[0]\n",
    "train_size = compute_num_samples(data_size, valid_ratio, augmentation)\n",
    "\n",
    "conv_base = VGG16(weights='imagenet', include_top=False, input_shape=(224, 224, 3))\n",
    "\n",
    "datagen = ImageDataGenerator(\n",
    "         rescale=1/255.,\n",
    "         vertical_flip=True,\n",
    "         horizontal_flip=True, \n",
    "         validation_split=valid_ratio)\n"
   ]
  },
  {
   "cell_type": "code",
   "execution_count": null,
   "metadata": {},
   "outputs": [],
   "source": [
    "train_features, train_labels = extract_features(df_train, path_train_crop_jog, train_size, \"training\")  # Agree with our small dataset size\n",
    "validation_features, validation_labels = extract_features(df_train, path_train_crop_jog, valid_size, \"validation\")  # Agree with our small dataset size"
   ]
  },
  {
   "cell_type": "markdown",
   "metadata": {},
   "source": [
    "## 1 - Linear SVM classifier"
   ]
  },
  {
   "cell_type": "code",
   "execution_count": null,
   "metadata": {},
   "outputs": [],
   "source": [
    "# Concatenate training and validation sets\n",
    "svm_features = numpy.concatenate((train_features, validation_features))\n",
    "svm_labels = numpy.concatenate((train_labels, validation_labels))"
   ]
  },
  {
   "cell_type": "code",
   "execution_count": null,
   "metadata": {},
   "outputs": [],
   "source": [
    "# Build model\n",
    "import sklearn\n",
    "from sklearn.model_selection import train_test_split, GridSearchCV\n",
    "#from sklearn.grid_search import GridSearchCV\n",
    "from sklearn.preprocessing import StandardScaler\n",
    "from sklearn.svm import LinearSVC\n",
    "\n",
    "X_train, y_train = svm_features.reshape(300,7*7*512), svm_labels\n",
    "\n",
    "scaler = StandardScaler(copy=False)\n",
    "scaler.fit(X_train)\n",
    "scaler.transform(X_train)\n",
    "\n",
    "param = [{\n",
    "          \"C\": [0.01, 0.1, 1, 10, 100]\n",
    "         }]\n",
    " \n",
    "svm = LinearSVC(penalty='l2', loss='squared_hinge', max_iter=1000)  # As in Tang (2013)\n",
    "clf = GridSearchCV(svm, param, cv=10)\n",
    "clf.fit(X_train, y_train)"
   ]
  },
  {
   "cell_type": "code",
   "execution_count": null,
   "metadata": {},
   "outputs": [],
   "source": []
  }
 ],
 "metadata": {
  "kernelspec": {
   "display_name": "Python 3",
   "language": "python",
   "name": "python3"
  },
  "language_info": {
   "codemirror_mode": {
    "name": "ipython",
    "version": 3
   },
   "file_extension": ".py",
   "mimetype": "text/x-python",
   "name": "python",
   "nbconvert_exporter": "python",
   "pygments_lexer": "ipython3",
   "version": "3.6.8"
  }
 },
 "nbformat": 4,
 "nbformat_minor": 2
}

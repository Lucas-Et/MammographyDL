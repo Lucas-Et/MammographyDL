{
 "cells": [
  {
   "cell_type": "code",
   "execution_count": 1,
   "metadata": {},
   "outputs": [
    {
     "name": "stderr",
     "output_type": "stream",
     "text": [
      "Using TensorFlow backend.\n"
     ]
    }
   ],
   "source": [
    "import pydicom\n",
    "from itertools import chain\n",
    "import os\n",
    "import numpy\n",
    "from matplotlib import pyplot, cm\n",
    "import cv2\n",
    "import pandas as pd\n",
    "from keras.utils import to_categorical, Sequence\n",
    "from keras.preprocessing.image import ImageDataGenerator\n",
    "from keras.applications import VGG16\n",
    "from keras import models\n",
    "from keras import layers\n",
    "from keras import optimizers"
   ]
  },
  {
   "cell_type": "markdown",
   "metadata": {},
   "source": [
    "# 0 - Creation of train Dataset for cropped mass images and feature extraction"
   ]
  },
  {
   "cell_type": "code",
   "execution_count": 2,
   "metadata": {},
   "outputs": [],
   "source": [
    "# Converts DICOM images in loss less JPEG and save them in a given folder. Possibility of image enhancement by CLAHE algorithm\n",
    "def dicom_to_jpg(dicom_path, jpg_path, mass_calc, ENHANCE=True):\n",
    "    if mass_calc==\"MASS\":\n",
    "        prefix = \"m_\"\n",
    "    elif mass_calc==\"CALC\":\n",
    "        prefix = \"c_\"\n",
    "    else:\n",
    "        print(\"Missing mass_calc argument : set it on 'MASS' if dicom_path contains only \\\n",
    "            mass case, and 'CALC' if it contains only calcification cases \")\n",
    "        return -1\n",
    "    clahe1 = cv2.createCLAHE(clipLimit=3.0, tileGridSize=(6,6)) #CLAHE for local contrast enhancing\n",
    "    clahe2 = cv2.createCLAHE(clipLimit=3.0, tileGridSize=(8,8))\n",
    "    clahe3 = cv2.createCLAHE(clipLimit=3.0, tileGridSize=(10,10))\n",
    "    threshold1 = 250*250\n",
    "    threshold2 = 400*400\n",
    "    i = 0\n",
    "    for dirName, subdirList, fileList in os.walk(dicom_path):\n",
    "        for filename in fileList:\n",
    "            path = os.path.join(dirName, filename)\n",
    "            dic = pydicom.read_file(path)\n",
    "            if (dic.SeriesDescription == \"cropped images\"):  # check whether the file's segmented image\n",
    "                i_str = str(i)\n",
    "                new_name = prefix + (5-len(i_str))*\"0\"+i_str+\".jpg\"\n",
    "                pixels = dic.pixel_array\n",
    "                size = pixels.size\n",
    "                if ENHANCE:\n",
    "                    if size<threshold1:\n",
    "                        pixels = clahe1.apply(pixels) \n",
    "                    elif size<threshold2:\n",
    "                        pixels = clahe2.apply(pixels)\n",
    "                    else:\n",
    "                        pixels = clahe3.apply(pixels)\n",
    "                cv2.imwrite(os.path.join(jpg_path, new_name), pixels/256., [int(cv2.IMWRITE_JPEG_QUALITY), 100])\n",
    "                i+=1\n",
    "    return None"
   ]
  },
  {
   "cell_type": "code",
   "execution_count": 3,
   "metadata": {},
   "outputs": [],
   "source": [
    "def dataframe_generator(path_file, mass_calc=\"\", n_images=None):\n",
    "    if mass_calc==\"MASS\":\n",
    "        prefix = \"m_\"\n",
    "    elif mass_calc==\"CALC\":\n",
    "        prefix = \"c_\"\n",
    "    else:\n",
    "        prefix = \"\"\n",
    "    full_data = pd.read_csv(path_file, sep=';', header=0)\n",
    "    full_data.dropna(0, inplace=True, how='all') # Remove fully empty rows\n",
    "    full_data.reset_index(drop=True, inplace=True)\n",
    "    descriptions = full_data.pathology.copy()\n",
    "    if n_images==None:\n",
    "        n_images = descriptions.shape[0]\n",
    "    descriptions[descriptions == 'BENIGN_WITHOUT_CALLBACK'] = 'BENIGN' # Replace all 'benign without callback' by 'benign'\n",
    "    paths = [[prefix+(5-len(str(i)))*\"0\"+str(i)+\".jpg\"] for i in range(n_images)]\n",
    "    paths = pd.DataFrame(data=paths, columns=['filename'])\n",
    "    df = pd.concat([paths, descriptions[:n_images]], axis=1)\n",
    "    return df"
   ]
  },
  {
   "cell_type": "code",
   "execution_count": 4,
   "metadata": {},
   "outputs": [],
   "source": [
    "def extract_features(dataframe, directory, sample_count, subset):\n",
    "    features = numpy.zeros(shape=(sample_count, 7, 7, 512))  # Must be equal to the output of the convolutional base\n",
    "    labels = numpy.zeros(shape=(sample_count, 2))\n",
    "    # Preprocess data\n",
    "    generator = datagen.flow_from_dataframe(\n",
    "        dataframe=dataframe, \n",
    "        directory=directory, \n",
    "        x_col=\"filename\", y_col=\"pathology\", class_mode=\"binary\",\n",
    "        target_size=(224,224), \n",
    "        batch_size=batch_size, shuffle=True, \n",
    "        interpolation=\"bilinear\",\n",
    "        subset=subset,\n",
    "        classes = ['BENIGN', 'MALIGNANT'])\n",
    "    # Pass data through convolutional base\n",
    "    print(\"MAP : \", generator.class_indices)\n",
    "    i = 0\n",
    "    inputs_batch, labels = next(generator)\n",
    "    features = conv_base.predict(inputs_batch)\n",
    "    for inputs_batch, labels_batch in generator:\n",
    "        features_batch = conv_base.predict(inputs_batch)\n",
    "        features = numpy.concatenate((features, features_batch), axis=0)\n",
    "        labels = numpy.concatenate((labels, labels_batch), axis=0)\n",
    "        i += 1\n",
    "        if i * batch_size >= sample_count:\n",
    "            break\n",
    "    return features, labels"
   ]
  },
  {
   "cell_type": "code",
   "execution_count": 5,
   "metadata": {},
   "outputs": [],
   "source": [
    "# Computes the total number of samples used for training phase after augmentation\n",
    "def compute_num_samples(data_size, validation_ratio, aug_factor):\n",
    "    train_size = int((1-validation_ratio) * data_size * aug_factor)\n",
    "    return train_size"
   ]
  },
  {
   "cell_type": "code",
   "execution_count": 31,
   "metadata": {},
   "outputs": [
    {
     "name": "stdout",
     "output_type": "stream",
     "text": [
      "Found 3 images belonging to 2 classes.\n",
      "MAP :  {'BENIGN': 0, 'MALIGNANT': 1}\n"
     ]
    }
   ],
   "source": [
    "t1, l1 = extract_features(df[:3], path_crop, 3, \"training\")\n",
    "plt.imshow(t1[1])"
   ]
  },
  {
   "cell_type": "code",
   "execution_count": 7,
   "metadata": {},
   "outputs": [
    {
     "name": "stdout",
     "output_type": "stream",
     "text": [
      "WARNING:tensorflow:From C:\\Users\\Utilisateur\\Anaconda3\\envs\\tens\\lib\\site-packages\\tensorflow\\python\\framework\\op_def_library.py:263: colocate_with (from tensorflow.python.framework.ops) is deprecated and will be removed in a future version.\n",
      "Instructions for updating:\n",
      "Colocations handled automatically by placer.\n",
      "Found 1055 images belonging to 2 classes.\n",
      "MAP :  {'BENIGN': 0, 'MALIGNANT': 1}\n"
     ]
    }
   ],
   "source": [
    "path_mixed = \"./../CBIS-DDSM/Mix_crop_mask/CBIS-DDSM/\" # Don't forget to change the paths if necessary\n",
    "path_crop = \"./../CBIS-DDSM/Cropped_mammo_jpg/\"\n",
    "path_labels = \"./../CBIS-DDSM/mass_case_description_train_set.csv\"\n",
    "#dicom_to_jpg(path_mixed, path_crop, \"MASS\")\n",
    "valid_ratio = 0.2\n",
    "batch_size = 32\n",
    "augmentation = 3\n",
    "df = dataframe_generator(path_labels, 'MASS')\n",
    "data_size = df.shape[0]\n",
    "train_size = compute_num_samples(data_size, valid_ratio, augmentation)\n",
    "\n",
    "conv_base = VGG16(weights='imagenet', include_top=False, input_shape=(224, 224, 3))\n",
    "\n",
    "datagen = ImageDataGenerator(\n",
    "         rescale=1/255.,\n",
    "         vertical_flip=True,\n",
    "         horizontal_flip=True, \n",
    "         validation_split=valid_ratio)\n",
    "\n",
    "train_features, train_labels = extract_features(df, path_crop, train_size, \"training\")  # Agree with our small dataset size"
   ]
  },
  {
   "cell_type": "code",
   "execution_count": 10,
   "metadata": {},
   "outputs": [
    {
     "name": "stdout",
     "output_type": "stream",
     "text": [
      "_________________________________________________________________\n",
      "Layer (type)                 Output Shape              Param #   \n",
      "=================================================================\n",
      "input_1 (InputLayer)         (None, 224, 224, 3)       0         \n",
      "_________________________________________________________________\n",
      "block1_conv1 (Conv2D)        (None, 224, 224, 64)      1792      \n",
      "_________________________________________________________________\n",
      "block1_conv2 (Conv2D)        (None, 224, 224, 64)      36928     \n",
      "_________________________________________________________________\n",
      "block1_pool (MaxPooling2D)   (None, 112, 112, 64)      0         \n",
      "_________________________________________________________________\n",
      "block2_conv1 (Conv2D)        (None, 112, 112, 128)     73856     \n",
      "_________________________________________________________________\n",
      "block2_conv2 (Conv2D)        (None, 112, 112, 128)     147584    \n",
      "_________________________________________________________________\n",
      "block2_pool (MaxPooling2D)   (None, 56, 56, 128)       0         \n",
      "_________________________________________________________________\n",
      "block3_conv1 (Conv2D)        (None, 56, 56, 256)       295168    \n",
      "_________________________________________________________________\n",
      "block3_conv2 (Conv2D)        (None, 56, 56, 256)       590080    \n",
      "_________________________________________________________________\n",
      "block3_conv3 (Conv2D)        (None, 56, 56, 256)       590080    \n",
      "_________________________________________________________________\n",
      "block3_pool (MaxPooling2D)   (None, 28, 28, 256)       0         \n",
      "_________________________________________________________________\n",
      "block4_conv1 (Conv2D)        (None, 28, 28, 512)       1180160   \n",
      "_________________________________________________________________\n",
      "block4_conv2 (Conv2D)        (None, 28, 28, 512)       2359808   \n",
      "_________________________________________________________________\n",
      "block4_conv3 (Conv2D)        (None, 28, 28, 512)       2359808   \n",
      "_________________________________________________________________\n",
      "block4_pool (MaxPooling2D)   (None, 14, 14, 512)       0         \n",
      "_________________________________________________________________\n",
      "block5_conv1 (Conv2D)        (None, 14, 14, 512)       2359808   \n",
      "_________________________________________________________________\n",
      "block5_conv2 (Conv2D)        (None, 14, 14, 512)       2359808   \n",
      "_________________________________________________________________\n",
      "block5_conv3 (Conv2D)        (None, 14, 14, 512)       2359808   \n",
      "_________________________________________________________________\n",
      "block5_pool (MaxPooling2D)   (None, 7, 7, 512)         0         \n",
      "=================================================================\n",
      "Total params: 14,714,688\n",
      "Trainable params: 14,714,688\n",
      "Non-trainable params: 0\n",
      "_________________________________________________________________\n"
     ]
    }
   ],
   "source": [
    "conv_base.summary()"
   ]
  },
  {
   "cell_type": "code",
   "execution_count": 8,
   "metadata": {},
   "outputs": [
    {
     "name": "stdout",
     "output_type": "stream",
     "text": [
      "Found 263 images belonging to 2 classes.\n",
      "MAP :  {'BENIGN': 0, 'MALIGNANT': 1}\n"
     ]
    }
   ],
   "source": [
    "valid_size = compute_num_samples(data_size, 1-valid_ratio, 1)\n",
    "validation_features, validation_labels = extract_features(df, path_crop, valid_size, \"validation\")  # Agree with our small dataset size"
   ]
  },
  {
   "cell_type": "code",
   "execution_count": 9,
   "metadata": {},
   "outputs": [],
   "source": [
    "numpy.save(\"validation_labels\", validation_labels)\n",
    "numpy.save(\"validation_features\", validation_features)\n",
    "numpy.save(\"train_features\", train_features)\n",
    "numpy.save(\"train_labels\", train_labels)"
   ]
  },
  {
   "cell_type": "code",
   "execution_count": 46,
   "metadata": {},
   "outputs": [],
   "source": [
    "path_test_mass_jpg = \"./../CBIS-DDSM/crop_test_mass_jpg/\""
   ]
  },
  {
   "cell_type": "markdown",
   "metadata": {},
   "source": [
    "## 1 - Classifier : Dense Neural Network"
   ]
  },
  {
   "cell_type": "code",
   "execution_count": 29,
   "metadata": {},
   "outputs": [
    {
     "name": "stdout",
     "output_type": "stream",
     "text": [
      "WARNING:tensorflow:From C:\\Users\\Utilisateur\\Anaconda3\\envs\\tens\\lib\\site-packages\\keras\\backend\\tensorflow_backend.py:3445: calling dropout (from tensorflow.python.ops.nn_ops) with keep_prob is deprecated and will be removed in a future version.\n",
      "Instructions for updating:\n",
      "Please use `rate` instead of `keep_prob`. Rate should be set to `rate = 1 - keep_prob`.\n",
      "_________________________________________________________________\n",
      "Layer (type)                 Output Shape              Param #   \n",
      "=================================================================\n",
      "flatten_1 (Flatten)          (None, 25088)             0         \n",
      "_________________________________________________________________\n",
      "dense_1 (Dense)              (None, 256)               6422784   \n",
      "_________________________________________________________________\n",
      "dropout_1 (Dropout)          (None, 256)               0         \n",
      "_________________________________________________________________\n",
      "dense_2 (Dense)              (None, 1)                 257       \n",
      "=================================================================\n",
      "Total params: 6,423,041\n",
      "Trainable params: 6,423,041\n",
      "Non-trainable params: 0\n",
      "_________________________________________________________________\n",
      "WARNING:tensorflow:From C:\\Users\\Utilisateur\\Anaconda3\\envs\\tens\\lib\\site-packages\\tensorflow\\python\\ops\\math_ops.py:3066: to_int32 (from tensorflow.python.ops.math_ops) is deprecated and will be removed in a future version.\n",
      "Instructions for updating:\n",
      "Use tf.cast instead.\n",
      "Train on 3197 samples, validate on 295 samples\n",
      "Epoch 1/100\n",
      "3197/3197 [==============================] - 15s 5ms/step - loss: 0.8964 - acc: 0.5596 - val_loss: 0.6611 - val_acc: 0.5932\n",
      "Epoch 2/100\n",
      "3197/3197 [==============================] - 5s 2ms/step - loss: 0.6641 - acc: 0.5680 - val_loss: 0.6376 - val_acc: 0.6034\n",
      "Epoch 3/100\n",
      "3197/3197 [==============================] - 5s 2ms/step - loss: 0.6540 - acc: 0.5784 - val_loss: 0.6610 - val_acc: 0.6237\n",
      "Epoch 4/100\n",
      "3197/3197 [==============================] - 5s 2ms/step - loss: 0.6401 - acc: 0.6074 - val_loss: 0.6432 - val_acc: 0.6373\n",
      "Epoch 5/100\n",
      "3197/3197 [==============================] - 5s 2ms/step - loss: 0.6177 - acc: 0.6409 - val_loss: 0.6100 - val_acc: 0.7051\n",
      "Epoch 6/100\n",
      "3197/3197 [==============================] - 5s 2ms/step - loss: 0.6111 - acc: 0.6234 - val_loss: 0.6064 - val_acc: 0.7051\n",
      "Epoch 7/100\n",
      "3197/3197 [==============================] - 5s 1ms/step - loss: 0.6143 - acc: 0.6206 - val_loss: 0.6052 - val_acc: 0.6136\n",
      "Epoch 8/100\n",
      "3197/3197 [==============================] - 5s 2ms/step - loss: 0.6088 - acc: 0.6128 - val_loss: 0.6008 - val_acc: 0.7220\n",
      "Epoch 9/100\n",
      "3197/3197 [==============================] - 5s 2ms/step - loss: 0.6125 - acc: 0.5956 - val_loss: 0.6103 - val_acc: 0.6814\n",
      "Epoch 10/100\n",
      "3197/3197 [==============================] - 5s 2ms/step - loss: 0.5832 - acc: 0.6550 - val_loss: 0.5819 - val_acc: 0.7424\n",
      "Epoch 11/100\n",
      "3197/3197 [==============================] - 5s 2ms/step - loss: 0.5762 - acc: 0.6547 - val_loss: 0.6037 - val_acc: 0.7254\n",
      "Epoch 12/100\n",
      "3197/3197 [==============================] - 5s 2ms/step - loss: 0.5470 - acc: 0.6772 - val_loss: 0.6222 - val_acc: 0.7186\n",
      "Epoch 13/100\n",
      "3197/3197 [==============================] - 5s 2ms/step - loss: 0.5564 - acc: 0.6863 - val_loss: 0.5957 - val_acc: 0.7153\n",
      "Epoch 14/100\n",
      "3197/3197 [==============================] - 5s 2ms/step - loss: 0.5296 - acc: 0.6891 - val_loss: 0.6085 - val_acc: 0.6644\n",
      "Epoch 15/100\n",
      "3197/3197 [==============================] - 5s 2ms/step - loss: 0.5098 - acc: 0.7066 - val_loss: 0.5948 - val_acc: 0.7322\n",
      "Epoch 16/100\n",
      "3197/3197 [==============================] - 5s 2ms/step - loss: 0.5104 - acc: 0.7053 - val_loss: 0.6657 - val_acc: 0.6746\n",
      "Epoch 17/100\n",
      "3197/3197 [==============================] - 5s 2ms/step - loss: 0.5328 - acc: 0.6988 - val_loss: 0.6287 - val_acc: 0.7288\n",
      "Epoch 18/100\n",
      "3197/3197 [==============================] - 5s 2ms/step - loss: 0.5295 - acc: 0.7069 - val_loss: 0.6307 - val_acc: 0.7322\n",
      "Epoch 19/100\n",
      "3197/3197 [==============================] - 5s 1ms/step - loss: 0.5107 - acc: 0.7091 - val_loss: 0.6051 - val_acc: 0.7153\n",
      "Epoch 20/100\n",
      "3197/3197 [==============================] - 5s 1ms/step - loss: 0.5098 - acc: 0.6738 - val_loss: 0.6094 - val_acc: 0.7322\n",
      "Epoch 21/100\n",
      "3197/3197 [==============================] - 5s 2ms/step - loss: 0.5065 - acc: 0.6800 - val_loss: 0.6079 - val_acc: 0.7492\n",
      "Epoch 22/100\n",
      "3197/3197 [==============================] - 5s 1ms/step - loss: 0.4953 - acc: 0.7226 - val_loss: 0.6512 - val_acc: 0.6983\n",
      "Epoch 23/100\n",
      "3197/3197 [==============================] - 5s 1ms/step - loss: 0.4839 - acc: 0.7251 - val_loss: 0.6377 - val_acc: 0.7458\n",
      "Epoch 24/100\n",
      "3197/3197 [==============================] - 5s 2ms/step - loss: 0.4974 - acc: 0.7038 - val_loss: 0.6500 - val_acc: 0.7424\n",
      "Epoch 25/100\n",
      "3197/3197 [==============================] - 5s 1ms/step - loss: 0.4622 - acc: 0.7391 - val_loss: 0.6592 - val_acc: 0.7525\n",
      "Epoch 26/100\n",
      "3197/3197 [==============================] - 5s 1ms/step - loss: 0.4649 - acc: 0.7329 - val_loss: 0.6655 - val_acc: 0.7220\n",
      "Epoch 27/100\n",
      "3197/3197 [==============================] - 5s 2ms/step - loss: 0.5334 - acc: 0.6625 - val_loss: 0.6546 - val_acc: 0.6373\n",
      "Epoch 28/100\n",
      "3197/3197 [==============================] - 5s 1ms/step - loss: 0.5156 - acc: 0.6512 - val_loss: 0.5985 - val_acc: 0.7559\n",
      "Epoch 29/100\n",
      "3197/3197 [==============================] - 5s 1ms/step - loss: 0.4627 - acc: 0.7354 - val_loss: 0.6694 - val_acc: 0.7322\n",
      "Epoch 30/100\n",
      "3197/3197 [==============================] - 5s 2ms/step - loss: 0.4445 - acc: 0.7341 - val_loss: 0.6840 - val_acc: 0.7051\n",
      "Epoch 31/100\n",
      "3197/3197 [==============================] - 5s 1ms/step - loss: 0.4443 - acc: 0.7635 - val_loss: 0.7340 - val_acc: 0.6678\n",
      "Epoch 32/100\n",
      "3197/3197 [==============================] - 5s 2ms/step - loss: 0.4485 - acc: 0.7501 - val_loss: 0.7217 - val_acc: 0.7390\n",
      "Epoch 33/100\n",
      "3197/3197 [==============================] - 5s 2ms/step - loss: 0.4891 - acc: 0.6913 - val_loss: 0.6460 - val_acc: 0.7186\n",
      "Epoch 34/100\n",
      "3197/3197 [==============================] - 5s 2ms/step - loss: 0.4845 - acc: 0.6706 - val_loss: 0.6267 - val_acc: 0.6847\n",
      "Epoch 35/100\n",
      "3197/3197 [==============================] - 5s 2ms/step - loss: 0.4665 - acc: 0.7122 - val_loss: 0.6958 - val_acc: 0.7356\n",
      "Epoch 36/100\n",
      "3197/3197 [==============================] - 5s 1ms/step - loss: 0.4183 - acc: 0.7604 - val_loss: 0.7423 - val_acc: 0.7525\n",
      "Epoch 37/100\n",
      "3197/3197 [==============================] - 5s 2ms/step - loss: 0.4726 - acc: 0.6860 - val_loss: 0.7246 - val_acc: 0.6102\n",
      "Epoch 38/100\n",
      "3197/3197 [==============================] - 5s 1ms/step - loss: 0.4879 - acc: 0.6641 - val_loss: 0.6562 - val_acc: 0.6678\n",
      "Epoch 39/100\n",
      "3197/3197 [==============================] - 5s 2ms/step - loss: 0.4544 - acc: 0.7279 - val_loss: 0.7436 - val_acc: 0.7525\n",
      "Epoch 40/100\n",
      "3197/3197 [==============================] - 5s 2ms/step - loss: 0.4177 - acc: 0.7732 - val_loss: 0.7629 - val_acc: 0.7424\n",
      "Epoch 41/100\n",
      "3197/3197 [==============================] - 5s 2ms/step - loss: 0.4102 - acc: 0.7751 - val_loss: 0.6818 - val_acc: 0.7119\n",
      "Epoch 42/100\n",
      "3197/3197 [==============================] - 5s 2ms/step - loss: 0.4602 - acc: 0.7482 - val_loss: 0.6731 - val_acc: 0.7085\n",
      "Epoch 43/100\n",
      "3197/3197 [==============================] - 5s 2ms/step - loss: 0.4399 - acc: 0.7710 - val_loss: 0.6843 - val_acc: 0.7356\n",
      "Epoch 44/100\n",
      "3197/3197 [==============================] - 5s 2ms/step - loss: 0.4297 - acc: 0.7710 - val_loss: 0.6807 - val_acc: 0.7322\n",
      "Epoch 45/100\n",
      "3197/3197 [==============================] - 5s 1ms/step - loss: 0.4576 - acc: 0.7510 - val_loss: 0.7634 - val_acc: 0.6847\n",
      "Epoch 46/100\n",
      "3197/3197 [==============================] - 5s 2ms/step - loss: 0.4446 - acc: 0.7423 - val_loss: 0.7135 - val_acc: 0.7119\n",
      "Epoch 47/100\n",
      "3197/3197 [==============================] - 5s 1ms/step - loss: 0.4352 - acc: 0.7707 - val_loss: 0.7885 - val_acc: 0.7017\n",
      "Epoch 48/100\n",
      "3197/3197 [==============================] - 5s 2ms/step - loss: 0.4231 - acc: 0.7673 - val_loss: 0.7629 - val_acc: 0.6881\n",
      "Epoch 49/100\n",
      "3197/3197 [==============================] - 5s 1ms/step - loss: 0.4251 - acc: 0.7679 - val_loss: 0.7209 - val_acc: 0.7288\n",
      "Epoch 50/100\n",
      "3197/3197 [==============================] - 5s 1ms/step - loss: 0.4436 - acc: 0.7595 - val_loss: 0.7251 - val_acc: 0.6678\n",
      "Epoch 51/100\n",
      "3197/3197 [==============================] - 5s 2ms/step - loss: 0.3963 - acc: 0.7976 - val_loss: 0.7169 - val_acc: 0.7322\n",
      "Epoch 52/100\n",
      "3197/3197 [==============================] - 5s 1ms/step - loss: 0.4172 - acc: 0.7710 - val_loss: 0.6920 - val_acc: 0.7186\n",
      "Epoch 53/100\n",
      "3197/3197 [==============================] - 5s 2ms/step - loss: 0.4186 - acc: 0.7667 - val_loss: 0.7571 - val_acc: 0.6915\n",
      "Epoch 54/100\n",
      "3197/3197 [==============================] - 5s 1ms/step - loss: 0.4091 - acc: 0.7663 - val_loss: 0.7018 - val_acc: 0.7390\n",
      "Epoch 55/100\n",
      "3197/3197 [==============================] - 5s 1ms/step - loss: 0.4371 - acc: 0.7448 - val_loss: 0.7179 - val_acc: 0.7186\n",
      "Epoch 56/100\n",
      "3197/3197 [==============================] - 5s 2ms/step - loss: 0.5237 - acc: 0.7360 - val_loss: 0.6842 - val_acc: 0.7254\n",
      "Epoch 57/100\n",
      "3197/3197 [==============================] - 5s 1ms/step - loss: 0.4872 - acc: 0.7632 - val_loss: 0.7547 - val_acc: 0.7119\n",
      "Epoch 58/100\n",
      "3197/3197 [==============================] - 5s 1ms/step - loss: 0.4065 - acc: 0.7886 - val_loss: 0.7945 - val_acc: 0.6983\n",
      "Epoch 59/100\n",
      "3197/3197 [==============================] - 5s 2ms/step - loss: 0.4464 - acc: 0.7319 - val_loss: 0.7240 - val_acc: 0.6915\n",
      "Epoch 60/100\n",
      "3197/3197 [==============================] - 5s 1ms/step - loss: 0.4469 - acc: 0.7682 - val_loss: 0.7583 - val_acc: 0.7153\n",
      "Epoch 61/100\n",
      "3197/3197 [==============================] - 5s 1ms/step - loss: 0.4107 - acc: 0.7904 - val_loss: 0.8010 - val_acc: 0.7085\n",
      "Epoch 62/100\n",
      "3197/3197 [==============================] - 5s 2ms/step - loss: 0.3933 - acc: 0.7801 - val_loss: 0.7369 - val_acc: 0.7153\n",
      "Epoch 63/100\n",
      "3197/3197 [==============================] - 5s 1ms/step - loss: 0.4337 - acc: 0.7535 - val_loss: 0.6964 - val_acc: 0.7220\n",
      "Epoch 64/100\n",
      "3197/3197 [==============================] - 5s 2ms/step - loss: 0.4749 - acc: 0.7520 - val_loss: 0.8200 - val_acc: 0.7186\n",
      "Epoch 65/100\n",
      "3197/3197 [==============================] - 5s 2ms/step - loss: 0.4176 - acc: 0.7723 - val_loss: 0.8997 - val_acc: 0.6508\n",
      "Epoch 66/100\n",
      "3197/3197 [==============================] - 5s 2ms/step - loss: 0.4473 - acc: 0.7348 - val_loss: 0.7703 - val_acc: 0.6644\n",
      "Epoch 67/100\n",
      "3197/3197 [==============================] - 5s 1ms/step - loss: 0.5067 - acc: 0.6866 - val_loss: 0.8869 - val_acc: 0.7288\n",
      "Epoch 68/100\n",
      "3197/3197 [==============================] - 5s 2ms/step - loss: 0.4007 - acc: 0.7829 - val_loss: 0.7907 - val_acc: 0.7051\n",
      "Epoch 69/100\n",
      "3197/3197 [==============================] - 5s 2ms/step - loss: 0.4526 - acc: 0.7285 - val_loss: 0.7658 - val_acc: 0.7119\n",
      "Epoch 70/100\n",
      "3197/3197 [==============================] - 5s 2ms/step - loss: 0.4102 - acc: 0.7560 - val_loss: 0.8453 - val_acc: 0.7119\n",
      "Epoch 71/100\n",
      "3197/3197 [==============================] - 5s 2ms/step - loss: 0.3950 - acc: 0.7848 - val_loss: 0.7765 - val_acc: 0.7356\n",
      "Epoch 72/100\n",
      "3197/3197 [==============================] - 5s 2ms/step - loss: 0.3877 - acc: 0.7914 - val_loss: 0.8529 - val_acc: 0.7153\n",
      "Epoch 73/100\n",
      "3197/3197 [==============================] - 5s 1ms/step - loss: 0.3872 - acc: 0.7957 - val_loss: 0.7753 - val_acc: 0.7220\n",
      "Epoch 74/100\n",
      "3197/3197 [==============================] - 5s 2ms/step - loss: 0.3961 - acc: 0.7807 - val_loss: 0.7798 - val_acc: 0.7186\n",
      "Epoch 75/100\n",
      "3197/3197 [==============================] - 5s 2ms/step - loss: 0.4298 - acc: 0.7373 - val_loss: 0.8524 - val_acc: 0.6983\n",
      "Epoch 76/100\n",
      "3197/3197 [==============================] - 5s 1ms/step - loss: 0.4117 - acc: 0.7535 - val_loss: 0.8501 - val_acc: 0.6983\n",
      "Epoch 77/100\n",
      "3197/3197 [==============================] - 5s 1ms/step - loss: 0.3658 - acc: 0.8236 - val_loss: 0.8067 - val_acc: 0.6983\n",
      "Epoch 78/100\n",
      "3197/3197 [==============================] - 5s 1ms/step - loss: 0.3955 - acc: 0.7807 - val_loss: 0.8073 - val_acc: 0.7119\n",
      "Epoch 79/100\n",
      "3197/3197 [==============================] - 5s 2ms/step - loss: 0.3693 - acc: 0.8004 - val_loss: 0.8773 - val_acc: 0.7288\n",
      "Epoch 80/100\n",
      "3197/3197 [==============================] - 5s 2ms/step - loss: 0.3504 - acc: 0.8173 - val_loss: 0.8089 - val_acc: 0.7254\n",
      "Epoch 81/100\n",
      "3197/3197 [==============================] - 5s 2ms/step - loss: 0.3693 - acc: 0.8148 - val_loss: 0.8386 - val_acc: 0.7119\n",
      "Epoch 82/100\n",
      "3197/3197 [==============================] - 5s 2ms/step - loss: 0.3401 - acc: 0.8195 - val_loss: 0.9272 - val_acc: 0.7254\n",
      "Epoch 83/100\n",
      "3197/3197 [==============================] - 5s 1ms/step - loss: 0.3307 - acc: 0.8361 - val_loss: 0.9178 - val_acc: 0.7017\n",
      "Epoch 84/100\n",
      "3197/3197 [==============================] - 5s 2ms/step - loss: 0.3619 - acc: 0.8039 - val_loss: 1.0014 - val_acc: 0.7085\n",
      "Epoch 85/100\n",
      "3197/3197 [==============================] - 5s 2ms/step - loss: 0.3877 - acc: 0.7785 - val_loss: 0.9502 - val_acc: 0.7390\n",
      "Epoch 86/100\n",
      "3197/3197 [==============================] - 5s 2ms/step - loss: 0.3836 - acc: 0.8042 - val_loss: 1.0168 - val_acc: 0.7017\n",
      "Epoch 87/100\n",
      "3197/3197 [==============================] - 5s 2ms/step - loss: 0.3621 - acc: 0.8117 - val_loss: 1.0114 - val_acc: 0.7153\n",
      "Epoch 88/100\n",
      "3197/3197 [==============================] - 5s 2ms/step - loss: 0.3669 - acc: 0.8289 - val_loss: 0.8352 - val_acc: 0.7186\n",
      "Epoch 89/100\n",
      "3197/3197 [==============================] - 5s 1ms/step - loss: 0.4606 - acc: 0.7892 - val_loss: 0.8475 - val_acc: 0.7186\n",
      "Epoch 90/100\n",
      "3197/3197 [==============================] - 5s 1ms/step - loss: 0.3511 - acc: 0.8273 - val_loss: 0.8677 - val_acc: 0.7017\n",
      "Epoch 91/100\n",
      "3197/3197 [==============================] - 5s 2ms/step - loss: 0.3620 - acc: 0.8048 - val_loss: 0.9636 - val_acc: 0.7356\n",
      "Epoch 92/100\n",
      "3197/3197 [==============================] - 5s 1ms/step - loss: 0.3600 - acc: 0.8167 - val_loss: 1.0133 - val_acc: 0.7017\n",
      "Epoch 93/100\n",
      "3197/3197 [==============================] - 5s 2ms/step - loss: 0.3351 - acc: 0.8339 - val_loss: 0.9629 - val_acc: 0.7119\n",
      "Epoch 94/100\n",
      "3197/3197 [==============================] - 5s 2ms/step - loss: 0.3671 - acc: 0.8114 - val_loss: 1.1425 - val_acc: 0.7119\n",
      "Epoch 95/100\n",
      "3197/3197 [==============================] - 5s 2ms/step - loss: 0.3359 - acc: 0.8320 - val_loss: 1.0359 - val_acc: 0.7153\n",
      "Epoch 96/100\n",
      "3197/3197 [==============================] - 5s 2ms/step - loss: 0.4562 - acc: 0.7301 - val_loss: 0.8575 - val_acc: 0.7220\n",
      "Epoch 97/100\n",
      "3197/3197 [==============================] - 5s 2ms/step - loss: 0.3833 - acc: 0.7951 - val_loss: 0.9537 - val_acc: 0.7186\n",
      "Epoch 98/100\n",
      "3197/3197 [==============================] - 5s 1ms/step - loss: 0.3993 - acc: 0.7767 - val_loss: 0.8216 - val_acc: 0.7119\n",
      "Epoch 99/100\n",
      "3197/3197 [==============================] - 5s 2ms/step - loss: 0.3839 - acc: 0.7845 - val_loss: 0.8834 - val_acc: 0.7153\n",
      "Epoch 100/100\n",
      "3197/3197 [==============================] - 5s 2ms/step - loss: 0.3643 - acc: 0.7992 - val_loss: 1.0949 - val_acc: 0.7153\n"
     ]
    }
   ],
   "source": [
    "epochs = 100\n",
    "\n",
    "model = models.Sequential()\n",
    "model.add(layers.Flatten(input_shape=(7,7,512)))\n",
    "model.add(layers.Dense(256, activation='relu', input_dim=(7*7*512)))\n",
    "model.add(layers.Dropout(0.5))\n",
    "model.add(layers.Dense(2, activation='sigmoid'))\n",
    "model.summary()\n",
    "\n",
    "# Compile model\n",
    "model.compile(optimizer=optimizers.Adam(),\n",
    "              loss='binary_crossentropy',\n",
    "              metrics=['acc'])\n",
    "              \n",
    "# Train model\n",
    "history = model.fit(train_features, train_labels,\n",
    "                    epochs=epochs,\n",
    "                    batch_size=batch_size, \n",
    "                    validation_data=(validation_features, validation_labels))"
   ]
  },
  {
   "cell_type": "code",
   "execution_count": 30,
   "metadata": {},
   "outputs": [
    {
     "data": {
      "image/png": "[encoded data removed]",
      "text/plain": [
       "<Figure size 432x288 with 1 Axes>"
      ]
     },
     "metadata": {
      "needs_background": "light"
     },
     "output_type": "display_data"
    },
    {
     "data": {
      "image/png": "[encoded data removed]",
      "text/plain": [
       "<Figure size 432x288 with 1 Axes>"
      ]
     },
     "metadata": {
      "needs_background": "light"
     },
     "output_type": "display_data"
    }
   ],
   "source": [
    "# Plot results\n",
    "import matplotlib.pyplot as plt\n",
    "\n",
    "acc = history.history['acc']\n",
    "val_acc = history.history['val_acc']\n",
    "loss = history.history['loss']\n",
    "val_loss = history.history['val_loss']\n",
    "\n",
    "epochs = range(1, len(acc)+1)\n",
    "\n",
    "plt.plot(epochs, acc, 'bo', label='Training accuracy')\n",
    "plt.plot(epochs, val_acc, 'b', label='Validation accuracy')\n",
    "plt.title('Training and validation accuracy')\n",
    "plt.legend()\n",
    "\n",
    "plt.figure()\n",
    "\n",
    "plt.plot(epochs, loss, 'bo', label='Training loss')\n",
    "plt.plot(epochs, val_loss, 'b', label='Validation loss')\n",
    "plt.title('Training and validation loss')\n",
    "plt.legend()\n",
    "\n",
    "plt.show()"
   ]
  },
  {
   "cell_type": "code",
   "execution_count": 80,
   "metadata": {},
   "outputs": [],
   "source": [
    "from keras.preprocessing import image\n",
    "def compute_predicitons(classifier, path_test_jpg, df_test_labels):\n",
    "    n_img = df_test_labels.shape[0]\n",
    "    c_fp = 0.\n",
    "    c_fn = 0.\n",
    "    c_tp = 0.\n",
    "    c_tn = 0.\n",
    "    for index, row in df_test_labels.iterrows():\n",
    "        img_path = os.path.join(path_test_jpg, row.filename)\n",
    "        img = image.load_img(img_path, target_size=(224, 224))\n",
    "        img_tensor = image.img_to_array(img)  # Image data encoded as integers in the 0–255 range\n",
    "        img_tensor /= 255.  # Normalize to [0,1] for plt.imshow application\n",
    "\n",
    "        # Extract features\n",
    "        features = conv_base.predict(img_tensor.reshape(1,224, 224, 3))\n",
    "        \n",
    "        # Make prediction\n",
    "        try:\n",
    "            prediction = classifier.predict(features)\n",
    "        except:\n",
    "            print(\"Bizarre\")\n",
    "            prediction = classifier.predict(features.reshape(1, 7*7*512))\n",
    "        if prediction < 0.5:\n",
    "            if row.pathology == \"BENIGN\":\n",
    "                c_tn += 1\n",
    "            else:\n",
    "                c_fn += 1\n",
    "        else:\n",
    "            if row.pathology == \"BENIGN\":\n",
    "                c_fp += 1\n",
    "            else:\n",
    "                c_tp += 1\n",
    "    return (c_tp+c_tn)/n_img, c_fp/(c_fp+c_tp)  "
   ]
  },
  {
   "cell_type": "code",
   "execution_count": 81,
   "metadata": {},
   "outputs": [
    {
     "name": "stdout",
     "output_type": "stream",
     "text": [
      "0.6984126984126984 0.39622641509433965\n"
     ]
    }
   ],
   "source": [
    "path_labels_test = \"./../CBIS-DDSM/mass_case_description_test_set.csv\"\n",
    "path_mass_test_jpg = \"./../CBIS-DDSM/crop_test_mass_jpg/\"\n",
    "df_test = dataframe_generator(path_labels_test, None)\n",
    "acc, fprate = compute_predicitons(model, path_mass_test_jpg, df_test)\n",
    "print(acc, fprate)"
   ]
  },
  {
   "cell_type": "markdown",
   "metadata": {},
   "source": [
    "## 2 - Classifier : Global Average Pooling"
   ]
  },
  {
   "cell_type": "code",
   "execution_count": null,
   "metadata": {},
   "outputs": [],
   "source": [
    "# Define model\n",
    "from keras import models\n",
    "from keras import layers\n",
    "from keras import optimizers\n",
    "\n",
    "epochs = 100\n",
    "\n",
    "model = models.Sequential()\n",
    "model.add(layers.GlobalAveragePooling2D(input_shape=(7,7,512)))\n",
    "model.add(layers.Dense(2, activation='sigmoid'))\n",
    "model.summary()\n",
    "\n",
    "# Compile model\n",
    "model.compile(optimizer=optimizers.Adam(),\n",
    "              loss='binary_crossentropy',\n",
    "              metrics=['acc'])\n",
    "              \n",
    "# Train model\n",
    "history = model.fit(train_features, train_labels,\n",
    "                    epochs=epochs,\n",
    "                    batch_size=batch_size, \n",
    "                    validation_data=(validation_features, validation_labels))"
   ]
  },
  {
   "cell_type": "code",
   "execution_count": 10,
   "metadata": {},
   "outputs": [
    {
     "data": {
      "text/plain": [
       "array([1., 1., 0., 1., 0., 0., 1., 0., 1., 1.], dtype=float32)"
      ]
     },
     "execution_count": 10,
     "metadata": {},
     "output_type": "execute_result"
    }
   ],
   "source": [
    "svm_labels[:10]"
   ]
  },
  {
   "cell_type": "code",
   "execution_count": 41,
   "metadata": {},
   "outputs": [
    {
     "name": "stdout",
     "output_type": "stream",
     "text": [
      "(array([], dtype=int64), array([], dtype=int64), array([], dtype=int64), array([], dtype=int64))\n"
     ]
    },
    {
     "data": {
      "text/plain": [
       "(3228, 7, 7, 512)"
      ]
     },
     "execution_count": 41,
     "metadata": {},
     "output_type": "execute_result"
    }
   ],
   "source": [
    "#svm_features[numpy.where(svm_features>1)] = 1\n",
    "print(numpy.where(svm_features>1))\n",
    "svm_features.shape"
   ]
  },
  {
   "cell_type": "markdown",
   "metadata": {},
   "source": [
    "## 3 - Classifier : Linear SVM"
   ]
  },
  {
   "cell_type": "code",
   "execution_count": 97,
   "metadata": {},
   "outputs": [],
   "source": [
    "# Concatenate training and validation sets\n",
    "svm_features = numpy.concatenate((train_features, validation_features))\n",
    "svm_labels = numpy.concatenate((train_labels, validation_labels))"
   ]
  },
  {
   "cell_type": "code",
   "execution_count": 24,
   "metadata": {},
   "outputs": [
    {
     "name": "stdout",
     "output_type": "stream",
     "text": [
      "StandardScaler(copy=True, with_mean=True, with_std=True)\n"
     ]
    },
    {
     "data": {
      "text/plain": [
       "array([[-0.20203051,  0.16222142, -0.87628504, -0.62413416],\n",
       "       [ 1.31319831,  1.13554995, -0.52315525,  1.41108592],\n",
       "       [-1.1111678 , -1.29777137,  1.39944029, -0.78695176]])"
      ]
     },
     "execution_count": 24,
     "metadata": {},
     "output_type": "execute_result"
    }
   ],
   "source": [
    "bal = numpy.array([[3,4, 5,6], [8,10, 14,56], [0,-5,63,2]])\n",
    "scaler = StandardScaler(copy=True)\n",
    "scaler.fit(bal)\n",
    "print(scaler)\n",
    "bal = scaler.transform(bal, copy=True)\n",
    "bal"
   ]
  },
  {
   "cell_type": "code",
   "execution_count": 11,
   "metadata": {},
   "outputs": [],
   "source": [
    "import sklearn\n",
    "from sklearn.model_selection import train_test_split, GridSearchCV\n",
    "from sklearn.preprocessing import StandardScaler\n",
    "from sklearn.svm import LinearSVC"
   ]
  },
  {
   "cell_type": "code",
   "execution_count": 13,
   "metadata": {},
   "outputs": [],
   "source": [
    "a = numpy.array([[1,5,8],[7,5,4],[7,8,1]])"
   ]
  },
  {
   "cell_type": "code",
   "execution_count": null,
   "metadata": {},
   "outputs": [],
   "source": [
    "# Build model\n",
    "import sklearn\n",
    "from sklearn.model_selection import train_test_split, GridSearchCV\n",
    "from sklearn.preprocessing import StandardScaler\n",
    "from sklearn.svm import LinearSVC\n",
    "\n",
    "X_train, y_train = svm_features[:3000].reshape(3000,7*7*512), svm_labels[:3000]\n",
    "\n",
    "param = [{\n",
    "          \"C\": [0.01, 0.1, 1, 10, 100]\n",
    "         }]\n",
    "\n",
    "svm = LinearSVC(penalty='l1', loss='squared_hinge')  # As in Tang (2013)\n",
    "clf = GridSearchCV(svm, param, cv=10)\n",
    "print(\"Hello\")\n",
    "clf.fit(X_train, y_train)"
   ]
  },
  {
   "cell_type": "code",
   "execution_count": 28,
   "metadata": {},
   "outputs": [
    {
     "name": "stdout",
     "output_type": "stream",
     "text": [
      "\n",
      "Accuracy score (mean):\n"
     ]
    },
    {
     "name": "stderr",
     "output_type": "stream",
     "text": [
      "C:\\Users\\Utilisateur\\Anaconda3\\envs\\tens\\lib\\site-packages\\sklearn\\model_selection\\_search.py:813: DeprecationWarning: The default of the `iid` parameter will change from True to False in version 0.22 and will be removed in 0.24. This will change numeric results when test-set sizes are unequal.\n",
      "  DeprecationWarning)\n",
      "C:\\Users\\Utilisateur\\Anaconda3\\envs\\tens\\lib\\site-packages\\sklearn\\model_selection\\_search.py:813: DeprecationWarning: The default of the `iid` parameter will change from True to False in version 0.22 and will be removed in 0.24. This will change numeric results when test-set sizes are unequal.\n",
      "  DeprecationWarning)\n",
      "C:\\Users\\Utilisateur\\Anaconda3\\envs\\tens\\lib\\site-packages\\sklearn\\model_selection\\_search.py:813: DeprecationWarning: The default of the `iid` parameter will change from True to False in version 0.22 and will be removed in 0.24. This will change numeric results when test-set sizes are unequal.\n",
      "  DeprecationWarning)\n",
      "C:\\Users\\Utilisateur\\Anaconda3\\envs\\tens\\lib\\site-packages\\sklearn\\model_selection\\_search.py:813: DeprecationWarning: The default of the `iid` parameter will change from True to False in version 0.22 and will be removed in 0.24. This will change numeric results when test-set sizes are unequal.\n",
      "  DeprecationWarning)\n",
      "C:\\Users\\Utilisateur\\Anaconda3\\envs\\tens\\lib\\site-packages\\sklearn\\model_selection\\_search.py:813: DeprecationWarning: The default of the `iid` parameter will change from True to False in version 0.22 and will be removed in 0.24. This will change numeric results when test-set sizes are unequal.\n",
      "  DeprecationWarning)\n",
      "C:\\Users\\Utilisateur\\Anaconda3\\envs\\tens\\lib\\site-packages\\sklearn\\model_selection\\_search.py:813: DeprecationWarning: The default of the `iid` parameter will change from True to False in version 0.22 and will be removed in 0.24. This will change numeric results when test-set sizes are unequal.\n",
      "  DeprecationWarning)\n",
      "C:\\Users\\Utilisateur\\Anaconda3\\envs\\tens\\lib\\site-packages\\sklearn\\model_selection\\_search.py:813: DeprecationWarning: The default of the `iid` parameter will change from True to False in version 0.22 and will be removed in 0.24. This will change numeric results when test-set sizes are unequal.\n",
      "  DeprecationWarning)\n",
      "C:\\Users\\Utilisateur\\Anaconda3\\envs\\tens\\lib\\site-packages\\sklearn\\model_selection\\_search.py:813: DeprecationWarning: The default of the `iid` parameter will change from True to False in version 0.22 and will be removed in 0.24. This will change numeric results when test-set sizes are unequal.\n",
      "  DeprecationWarning)\n"
     ]
    },
    {
     "name": "stdout",
     "output_type": "stream",
     "text": [
      "0.5017171717171717\n",
      "\n",
      "Accuracy score (standard deviation):\n"
     ]
    },
    {
     "name": "stderr",
     "output_type": "stream",
     "text": [
      "C:\\Users\\Utilisateur\\Anaconda3\\envs\\tens\\lib\\site-packages\\sklearn\\model_selection\\_search.py:813: DeprecationWarning: The default of the `iid` parameter will change from True to False in version 0.22 and will be removed in 0.24. This will change numeric results when test-set sizes are unequal.\n",
      "  DeprecationWarning)\n",
      "C:\\Users\\Utilisateur\\Anaconda3\\envs\\tens\\lib\\site-packages\\sklearn\\model_selection\\_search.py:813: DeprecationWarning: The default of the `iid` parameter will change from True to False in version 0.22 and will be removed in 0.24. This will change numeric results when test-set sizes are unequal.\n",
      "  DeprecationWarning)\n",
      "C:\\Users\\Utilisateur\\Anaconda3\\envs\\tens\\lib\\site-packages\\sklearn\\model_selection\\_search.py:813: DeprecationWarning: The default of the `iid` parameter will change from True to False in version 0.22 and will be removed in 0.24. This will change numeric results when test-set sizes are unequal.\n",
      "  DeprecationWarning)\n",
      "C:\\Users\\Utilisateur\\Anaconda3\\envs\\tens\\lib\\site-packages\\sklearn\\model_selection\\_search.py:813: DeprecationWarning: The default of the `iid` parameter will change from True to False in version 0.22 and will be removed in 0.24. This will change numeric results when test-set sizes are unequal.\n",
      "  DeprecationWarning)\n",
      "C:\\Users\\Utilisateur\\Anaconda3\\envs\\tens\\lib\\site-packages\\sklearn\\model_selection\\_search.py:813: DeprecationWarning: The default of the `iid` parameter will change from True to False in version 0.22 and will be removed in 0.24. This will change numeric results when test-set sizes are unequal.\n",
      "  DeprecationWarning)\n",
      "C:\\Users\\Utilisateur\\Anaconda3\\envs\\tens\\lib\\site-packages\\sklearn\\model_selection\\_search.py:813: DeprecationWarning: The default of the `iid` parameter will change from True to False in version 0.22 and will be removed in 0.24. This will change numeric results when test-set sizes are unequal.\n",
      "  DeprecationWarning)\n",
      "C:\\Users\\Utilisateur\\Anaconda3\\envs\\tens\\lib\\site-packages\\sklearn\\model_selection\\_search.py:813: DeprecationWarning: The default of the `iid` parameter will change from True to False in version 0.22 and will be removed in 0.24. This will change numeric results when test-set sizes are unequal.\n",
      "  DeprecationWarning)\n",
      "C:\\Users\\Utilisateur\\Anaconda3\\envs\\tens\\lib\\site-packages\\sklearn\\model_selection\\_search.py:813: DeprecationWarning: The default of the `iid` parameter will change from True to False in version 0.22 and will be removed in 0.24. This will change numeric results when test-set sizes are unequal.\n",
      "  DeprecationWarning)\n"
     ]
    },
    {
     "name": "stdout",
     "output_type": "stream",
     "text": [
      "0.1191457280809805\n"
     ]
    }
   ],
   "source": [
    "# Evaluate model\n",
    "from sklearn.model_selection import cross_val_score\n",
    "from sklearn.metrics import accuracy_score\n",
    "\n",
    "print(\"\\nAccuracy score (mean):\")\n",
    "print(numpy.mean(cross_val_score(clf, X_train[:100], y_train[:100], cv=10)))\n",
    "print(\"\\nAccuracy score (standard deviation):\")\n",
    "print(numpy.std(cross_val_score(clf, X_train[:100], y_train[:100], cv=10)))"
   ]
  },
  {
   "cell_type": "code",
   "execution_count": null,
   "metadata": {},
   "outputs": [],
   "source": []
  }
 ],
 "metadata": {
  "kernelspec": {
   "display_name": "Python 3",
   "language": "python",
   "name": "python3"
  },
  "language_info": {
   "codemirror_mode": {
    "name": "ipython",
    "version": 3
   },
   "file_extension": ".py",
   "mimetype": "text/x-python",
   "name": "python",
   "nbconvert_exporter": "python",
   "pygments_lexer": "ipython3",
   "version": "3.6.8"
  }
 },
 "nbformat": 4,
 "nbformat_minor": 2
}

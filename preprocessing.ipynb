{
 "cells": [
  {
   "cell_type": "code",
   "execution_count": 1,
   "metadata": {},
   "outputs": [
    {
     "name": "stderr",
     "output_type": "stream",
     "text": [
      "Using TensorFlow backend.\n"
     ]
    }
   ],
   "source": [
    "import pydicom\n",
    "from itertools import chain\n",
    "import os\n",
    "import numpy\n",
    "from matplotlib import pyplot, cm\n",
    "import cv2\n",
    "import pandas as pd\n",
    "from keras.utils import to_categorical, Sequence\n",
    "from keras.preprocessing.image import ImageDataGenerator\n",
    "from keras.applications import VGG16\n",
    "from keras import models\n",
    "from keras import layers\n",
    "from keras import optimizers"
   ]
  },
  {
   "cell_type": "markdown",
   "metadata": {},
   "source": [
    "# Creation of train Dataset for cropped mass images"
   ]
  },
  {
   "cell_type": "code",
   "execution_count": 2,
   "metadata": {},
   "outputs": [],
   "source": [
    "# Converts DICOM images in loss less JPEG and save them in a given folder. Possibility of image enhancement by CLAHE algorithm\n",
    "def dicom_to_jpg(dicom_path, jpg_path, mass_calc, ENHANCE=True):\n",
    "    if mass_calc==\"MASS\":\n",
    "        prefix = \"m_\"\n",
    "    elif mass_calc==\"CALC\":\n",
    "        prefix = \"c_\"\n",
    "    else:\n",
    "        print(\"Missing mass_calc argument : set it on 'MASS' if dicom_path contains only \\\n",
    "            mass case, and 'CALC' if it contains only calcification cases \")\n",
    "        return -1\n",
    "    clahe1 = cv2.createCLAHE(clipLimit=3.0, tileGridSize=(6,6)) #CLAHE for local contrast enhancing\n",
    "    clahe2 = cv2.createCLAHE(clipLimit=3.0, tileGridSize=(8,8))\n",
    "    clahe3 = cv2.createCLAHE(clipLimit=3.0, tileGridSize=(10,10))\n",
    "    threshold1 = 250*250\n",
    "    threshold2 = 400*400\n",
    "    i = 0\n",
    "    for dirName, subdirList, fileList in os.walk(dicom_path):\n",
    "        for filename in fileList:\n",
    "            path = os.path.join(dirName, filename)\n",
    "            dic = pydicom.read_file(path)\n",
    "            if (dic.SeriesDescription == \"cropped images\"):  # check whether the file's segmented image\n",
    "                i_str = str(i)\n",
    "                new_name = prefix + (5-len(i_str))*\"0\"+i_str+\".jpg\"\n",
    "                pixels = dic.pixel_array\n",
    "                size = pixels.size\n",
    "                if ENHANCE:\n",
    "                    if size<threshold1:\n",
    "                        pixels = clahe1.apply(pixels) \n",
    "                    elif size<threshold2:\n",
    "                        pixels = clahe2.apply(pixels)\n",
    "                    else:\n",
    "                        pixels = clahe3.apply(pixels)\n",
    "                cv2.imwrite(os.path.join(jpg_path, new_name), pixels/256., [int(cv2.IMWRITE_JPEG_QUALITY), 100])\n",
    "                i+=1\n",
    "    return None"
   ]
  },
  {
   "cell_type": "code",
   "execution_count": 3,
   "metadata": {},
   "outputs": [],
   "source": [
    "def dataframe_generator(path_file, mass_calc, n_images=None):\n",
    "    if mass_calc==\"MASS\":\n",
    "        prefix = \"m_\"\n",
    "    elif mass_calc==\"CALC\":\n",
    "        prefix = \"c_\"\n",
    "    else:\n",
    "        print(\"Missing mass_calc argument : set it on 'MASS' if dicom_path contains only \\\n",
    "            mass case, and 'CALC' if it contains only calcification cases\")\n",
    "        return -1\n",
    "    full_data = pd.read_csv(path_file, sep=';', header=0)\n",
    "    full_data.dropna(0, inplace=True, how='all') # Remove fully empty rows\n",
    "    full_data.reset_index(drop=True, inplace=True)\n",
    "    descriptions = full_data.pathology.copy()\n",
    "    if n_images==None:\n",
    "        n_images = descriptions.shape[0]\n",
    "    descriptions[descriptions == 'BENIGN_WITHOUT_CALLBACK'] = 'BENIGN' # Replace all 'benign without callback' by 'benign'\n",
    "    paths = [[prefix+(5-len(str(i)))*\"0\"+str(i)+\".jpg\"] for i in range(n_images)]\n",
    "    paths = pd.DataFrame(data=paths, columns=['filename'])\n",
    "    df = pd.concat([paths, descriptions[:n_images]], axis=1)\n",
    "    return df"
   ]
  },
  {
   "cell_type": "code",
   "execution_count": 4,
   "metadata": {},
   "outputs": [],
   "source": [
    "def extract_features(dataframe, directory, sample_count, subset):\n",
    "    features = numpy.zeros(shape=(sample_count, 7, 7, 512))  # Must be equal to the output of the convolutional base\n",
    "    labels = numpy.zeros(shape=(sample_count, 2))\n",
    "    # Preprocess data\n",
    "    generator = datagen.flow_from_dataframe(\n",
    "        dataframe=dataframe, \n",
    "        directory=directory, \n",
    "        x_col=\"filename\", y_col=\"pathology\", class_mode=\"binary\",\n",
    "        target_size=(224,224), \n",
    "        batch_size=batch_size, shuffle=True, \n",
    "        interpolation=\"bilinear\",\n",
    "        subset=subset)\n",
    "    # Pass data through convolutional base\n",
    "    i = 0\n",
    "    inputs_batch, labels = next(generator)\n",
    "    features = conv_base.predict(inputs_batch)\n",
    "    for inputs_batch, labels_batch in generator:\n",
    "        features_batch = conv_base.predict(inputs_batch)\n",
    "        features = numpy.concatenate((features, features_batch), axis=0)\n",
    "        labels = numpy.concatenate((labels, labels_batch), axis=0)\n",
    "        i += 1\n",
    "        if i * batch_size >= sample_count:\n",
    "            break\n",
    "    return features, labels"
   ]
  },
  {
   "cell_type": "code",
   "execution_count": 5,
   "metadata": {},
   "outputs": [],
   "source": [
    "# Computes the total number of samples used for training phase after augmentation\n",
    "def compute_num_samples(data_size, validation_ratio, aug_factor):\n",
    "    train_size = int((1-validation_ratio) * data_size * aug_factor)\n",
    "    return train_size"
   ]
  },
  {
   "cell_type": "code",
   "execution_count": 6,
   "metadata": {},
   "outputs": [
    {
     "name": "stdout",
     "output_type": "stream",
     "text": [
      "WARNING:tensorflow:From C:\\Users\\Utilisateur\\Anaconda3\\envs\\tens\\lib\\site-packages\\tensorflow\\python\\framework\\op_def_library.py:263: colocate_with (from tensorflow.python.framework.ops) is deprecated and will be removed in a future version.\n",
      "Instructions for updating:\n",
      "Colocations handled automatically by placer.\n",
      "Found 923 images belonging to 2 classes.\n"
     ]
    }
   ],
   "source": [
    "path_mixed = \"./../CBIS-DDSM/Mix_crop_mask/CBIS-DDSM/\" # Don't forget to change the paths if necessary\n",
    "path_crop = \"./../CBIS-DDSM/Cropped_mammo_jpg/\"\n",
    "path_labels = \"./../CBIS-DDSM/mass_case_description_train_set.csv\"\n",
    "#dicom_to_jpg(path_mixed, path_crop, \"MASS\")\n",
    "valid_ratio = 0.3\n",
    "batch_size = 32\n",
    "augmentation = 3\n",
    "df = dataframe_generator(path_labels, 'MASS')\n",
    "data_size = df.shape[0]\n",
    "train_size = compute_num_samples(data_size, valid_ratio, augmentation)\n",
    "\n",
    "conv_base = VGG16(weights='imagenet', include_top=False, input_shape=(224, 224, 3))\n",
    "\n",
    "datagen = ImageDataGenerator(\n",
    "         rescale=1/255.,\n",
    "         vertical_flip=True,\n",
    "         horizontal_flip=True, \n",
    "         validation_split=valid_ratio)\n",
    "\n",
    "train_features, train_labels = extract_features(df, path_crop, train_size, \"training\")  # Agree with our small dataset size"
   ]
  },
  {
   "cell_type": "code",
   "execution_count": 7,
   "metadata": {},
   "outputs": [
    {
     "name": "stdout",
     "output_type": "stream",
     "text": [
      "Found 395 images belonging to 2 classes.\n"
     ]
    }
   ],
   "source": [
    "valid_size = compute_num_samples(data_size, 1-valid_ratio, 1)\n",
    "validation_features, validation_labels = extract_features(df, path_crop, valid_size, \"validation\")  # Agree with our small dataset size"
   ]
  },
  {
   "cell_type": "code",
   "execution_count": null,
   "metadata": {},
   "outputs": [],
   "source": [
    "epochs = 100\n",
    "\n",
    "model = models.Sequential()\n",
    "model.add(layers.Flatten(input_shape=(7,7,512)))\n",
    "model.add(layers.Dense(256, activation='relu', input_dim=(7*7*512)))\n",
    "model.add(layers.Dropout(0.5))\n",
    "model.add(layers.Dense(2, activation='sigmoid'))\n",
    "model.summary()\n",
    "\n",
    "# Compile model\n",
    "model.compile(optimizer=optimizers.Adam(),\n",
    "              loss='binary_crossentropy',\n",
    "              metrics=['acc'])\n",
    "              \n",
    "# Train model\n",
    "history = model.fit(train_features, train_labels,\n",
    "                    epochs=epochs,\n",
    "                    batch_size=batch_size, \n",
    "                    validation_data=(validation_features, validation_labels))"
   ]
  },
  {
   "cell_type": "code",
   "execution_count": null,
   "metadata": {},
   "outputs": [],
   "source": [
    "# Define model\n",
    "from keras import models\n",
    "from keras import layers\n",
    "from keras import optimizers\n",
    "\n",
    "epochs = 100\n",
    "\n",
    "model = models.Sequential()\n",
    "model.add(layers.GlobalAveragePooling2D(input_shape=(7,7,512)))\n",
    "model.add(layers.Dense(2, activation='sigmoid'))\n",
    "model.summary()\n",
    "\n",
    "# Compile model\n",
    "model.compile(optimizer=optimizers.Adam(),\n",
    "              loss='binary_crossentropy',\n",
    "              metrics=['acc'])\n",
    "              \n",
    "# Train model\n",
    "history = model.fit(train_features, train_labels,\n",
    "                    epochs=epochs,\n",
    "                    batch_size=batch_size, \n",
    "                    validation_data=(validation_features, validation_labels))"
   ]
  },
  {
   "cell_type": "code",
   "execution_count": 55,
   "metadata": {},
   "outputs": [],
   "source": [
    "# Concatenate training and validation sets\n",
    "svm_features = numpy.concatenate((train_features, validation_features))\n",
    "svm_labels = numpy.concatenate((train_labels, validation_labels))"
   ]
  },
  {
   "cell_type": "code",
   "execution_count": 41,
   "metadata": {},
   "outputs": [
    {
     "name": "stdout",
     "output_type": "stream",
     "text": [
      "(array([], dtype=int64), array([], dtype=int64), array([], dtype=int64), array([], dtype=int64))\n"
     ]
    },
    {
     "data": {
      "text/plain": [
       "(3228, 7, 7, 512)"
      ]
     },
     "execution_count": 41,
     "metadata": {},
     "output_type": "execute_result"
    }
   ],
   "source": [
    "#svm_features[numpy.where(svm_features>1)] = 1\n",
    "print(numpy.where(svm_features>1))\n",
    "svm_features.shape"
   ]
  },
  {
   "cell_type": "code",
   "execution_count": 54,
   "metadata": {},
   "outputs": [
    {
     "data": {
      "text/plain": [
       "GridSearchCV(cv=10, error_score='raise-deprecating',\n",
       "             estimator=LinearSVC(C=1.0, class_weight=None, dual=True,\n",
       "                                 fit_intercept=True, intercept_scaling=1,\n",
       "                                 loss='squared_hinge', max_iter=1000,\n",
       "                                 multi_class='ovr', penalty='l2',\n",
       "                                 random_state=None, tol=0.0001, verbose=0),\n",
       "             iid='warn', n_jobs=None,\n",
       "             param_grid=[{'C': [0.01, 0.1, 1, 10, 100]}],\n",
       "             pre_dispatch='2*n_jobs', refit=True, return_train_score=False,\n",
       "             scoring=None, verbose=0)"
      ]
     },
     "execution_count": 54,
     "metadata": {},
     "output_type": "execute_result"
    }
   ],
   "source": [
    "# Build model\n",
    "import sklearn\n",
    "from sklearn.model_selection import train_test_split, GridSearchCV\n",
    "#from sklearn.grid_search import GridSearchCV\n",
    "from sklearn.preprocessing import StandardScaler\n",
    "from sklearn.svm import LinearSVC\n",
    "\n",
    "X_train, y_train = svm_features.reshape(300,7*7*512), svm_labels\n",
    "\n",
    "scaler = StandardScaler(copy=False)\n",
    "scaler.fit(X_train)\n",
    "scaler.transform(X_train)\n",
    "\n",
    "param = [{\n",
    "          \"C\": [0.01, 0.1, 1, 10, 100]\n",
    "         }]\n",
    " \n",
    "svm = LinearSVC(penalty='l2', loss='squared_hinge', max_iter=1000)  # As in Tang (2013)\n",
    "clf = GridSearchCV(svm, param, cv=10)\n",
    "clf.fit(X_train, y_train)"
   ]
  }
 ],
 "metadata": {
  "kernelspec": {
   "display_name": "Python 3",
   "language": "python",
   "name": "python3"
  },
  "language_info": {
   "codemirror_mode": {
    "name": "ipython",
    "version": 3
   },
   "file_extension": ".py",
   "mimetype": "text/x-python",
   "name": "python",
   "nbconvert_exporter": "python",
   "pygments_lexer": "ipython3",
   "version": "3.6.8"
  }
 },
 "nbformat": 4,
 "nbformat_minor": 2
}

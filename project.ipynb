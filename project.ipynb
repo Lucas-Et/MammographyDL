{
 "cells": [
  {
   "cell_type": "code",
   "execution_count": 3,
   "metadata": {},
   "outputs": [
    {
     "name": "stderr",
     "output_type": "stream",
     "text": [
      "Using TensorFlow backend.\n"
     ]
    }
   ],
   "source": [
    "import pydicom\n",
    "from itertools import chain\n",
    "import os\n",
    "import numpy\n",
    "from matplotlib import pyplot, cm\n",
    "import cv2\n",
    "import pandas as pd\n",
    "from keras.utils import to_categorical, Sequence\n",
    "from keras.preprocessing.image import ImageDataGenerator\n",
    "from keras.applications import VGG16\n",
    "from keras.models import Model\n",
    "from keras import models\n",
    "from keras import layers\n",
    "from keras import optimizers"
   ]
  },
  {
   "cell_type": "markdown",
   "metadata": {},
   "source": [
    "## 1 - Creation of Datasets and Dataframe and Image Enhancement"
   ]
  },
  {
   "cell_type": "markdown",
   "metadata": {},
   "source": [
    "First we want to convert all the dicom images from  to JPEG images, and put them in a single folder, corresponding to training or testing set.\n",
    "We will also apply Constrast Limited Adaptative Histogram Equalization (CLAHE) to each image, w.r.t their size, as mentionned in this article : [agab DA, Sharkas M, Marshall S, Ren J. 2019. Breast cancer detection using deep convolutional neural networksand support vector machines](http://doi.org/10.7717/peerj.6201)"
   ]
  },
  {
   "cell_type": "code",
   "execution_count": 12,
   "metadata": {},
   "outputs": [],
   "source": [
    "# Look for all cropped images given from dataframes \"paths_dicom_df\" in the folder \"pth_folder_dicom\", \n",
    "# apply CLAHE algorithm if wanted, and record new JPEG images in \"path_jpg\"\n",
    "# Also creates and record the data frame necessary for the Keras image generator\n",
    "def dicom_to_jpg_with_df(paths_dicom_df, pth_folder_dicom, path_jpg, ENHANCE=True):\n",
    "    clahe1 = cv2.createCLAHE(clipLimit=3.0, tileGridSize=(6,6)) #CLAHE for local contrast enhancing\n",
    "    clahe2 = cv2.createCLAHE(clipLimit=3.0, tileGridSize=(8,8))\n",
    "    clahe3 = cv2.createCLAHE(clipLimit=3.0, tileGridSize=(10,10))\n",
    "    threshold1 = 250*250\n",
    "    threshold2 = 400*400\n",
    "    i=0\n",
    "    dict_for_df = {'filename':[], 'pathology':[]}\n",
    "    for df_path in paths_dicom_df:\n",
    "        #df = pd.read_csv(df_path, sep=',', header=0, engine='python', quotechar='\"')\n",
    "        df = pd.read_csv(df_path, sep=';', header=0)\n",
    "        df.dropna(0, inplace=True, how='all') # Remove fully empty rows\n",
    "        df.reset_index(drop=True, inplace=True)\n",
    "        for index, row in df.iterrows():\n",
    "            foldername = row[\"cropped image file path\"]\n",
    "            arg_list = foldername.split('/')\n",
    "            path = os.path.join(pth_folder_dicom, arg_list[0])\n",
    "            dict_for_df['filename'].append(arg_list[0]+'.jpg')\n",
    "            dict_for_df['pathology'].append(row.pathology)\n",
    "            for dirName, subdirList, fileList in os.walk(path):\n",
    "                for filename in fileList:\n",
    "                    filepath = os.path.join(dirName, filename)\n",
    "                    dic = pydicom.read_file(filepath)\n",
    "                    if (dic.SeriesDescription == \"cropped images\"):  # check whether the file's segmented image\n",
    "                        pixels = dic.pixel_array\n",
    "                        size = pixels.size\n",
    "                        if ENHANCE:\n",
    "                            if size<threshold1:\n",
    "                                pixels = clahe1.apply(pixels) \n",
    "                            elif size<threshold2:\n",
    "                                pixels = clahe2.apply(pixels)\n",
    "                            else:\n",
    "                                pixels = clahe3.apply(pixels)\n",
    "                        cv2.imwrite(os.path.join(path_jpg, arg_list[0])+\".jpg\", pixels/255., [int(cv2.IMWRITE_JPEG_QUALITY), 100])\n",
    "                        i+=1\n",
    "    df_returned = pd.DataFrame(data=dict_for_df)\n",
    "    df_returned.pathology[df_returned.pathology == 'BENIGN_WITHOUT_CALLBACK'] = 'BENIGN'\n",
    "    return df_returned\n",
    "    "
   ]
  },
  {
   "cell_type": "markdown",
   "metadata": {},
   "source": [
    "Don't forget to change paths according to your computer. Execute the commented lines to extract data."
   ]
  },
  {
   "cell_type": "code",
   "execution_count": 2,
   "metadata": {},
   "outputs": [],
   "source": [
    "path_train_mass_df = \"D:\\\\datas\\\\Mammographies\\\\mass_case_description_train_set.csv\"\n",
    "path_train_calc_df = \"D:\\\\datas\\\\Mammographies\\\\calc_case_description_train_set.csv\"\n",
    "path_test_mass_df = \"D:\\\\datas\\\\Mammographies\\\\mass_case_description_test_set.csv\"\n",
    "path_test_calc_df = \"D:\\\\datas\\\\Mammographies\\\\calc_case_description_train_set.csv\"\n",
    "\n",
    "path_dicom_folder = \"D:\\\\datas\\Mammographies\\\\CBIS-DDSM\"\n",
    "\n",
    "path_train_crop_jpg = \"D:\\\\datas\\\\Mammographies\\\\mass_and_calc_crop_train\\\\\"\n",
    "path_test_crop_jpg = \"D:\\\\datas\\\\Mammographies\\\\mass_and_calc_crop_test\\\\\"\n",
    "\n",
    "#df_test = dicom_to_jpg_with_df([path_test_mass_df, path_test_calc_df], path_dicom_folder, path_test_crop_jpg)\n",
    "#df_test.to_csv(\"test_labels.csv\", index=False)\n",
    "#\n",
    "#df_train = dicom_to_jpg_with_df([path_train_mass_df, path_train_calc_df], path_dicom_folder, path_train_crop_jpg)\n",
    "#df_train.to_csv(\"train_labels.csv\", index=False)"
   ]
  },
  {
   "cell_type": "code",
   "execution_count": 1,
   "metadata": {},
   "outputs": [],
   "source": [
    "path_train_mass_df = \"C:\\\\Users\\\\Utilisateur\\\\Documents\\\\Stage2A\\\\CBIS-DDSM\\\\mass_case_description_train_set.csv\"\n",
    "path_train_calc_df = \"D:\\\\datas\\\\Mammographies\\\\calc_case_description_train_set.csv\"\n",
    "path_test_mass_df = \"C:\\\\Users\\\\Utilisateur\\\\Documents\\\\Stage2A\\\\CBIS-DDSM\\\\mass_case_description_test_set.csv\"\n",
    "path_test_calc_df = \"D:\\\\datas\\\\Mammographies\\\\calc_case_description_train_set.csv\"\n",
    "\n",
    "path_dicom_folder = \"C:\\\\Users\\\\Utilisateur\\\\Documents\\\\Stage2A\\\\CBIS-DDSM\\\\all_cases\\\\\"\n",
    "\n",
    "path_train_crop_jpg = \"C:\\\\Users\\\\Utilisateur\\\\Documents\\\\Stage2A\\\\CBIS-DDSM\\\\train_crop_mass_jpg\\\\\"\n",
    "path_test_crop_jpg = \"C:\\\\Users\\\\Utilisateur\\\\Documents\\\\Stage2A\\\\CBIS-DDSM\\\\test_crop_mass_jpg\\\\\"\n",
    "\n",
    "#df_test = dicom_to_jpg_with_df([path_test_mass_df], path_dicom_folder, path_test_crop_jpg)\n",
    "#df_test.to_csv(\"test_labels.csv\", index=False)\n",
    "#\n",
    "#df_train = dicom_to_jpg_with_df([path_train_mass_df], path_dicom_folder, path_train_crop_jpg)\n",
    "#df_train.to_csv(\"train_labels.csv\", index=False)"
   ]
  },
  {
   "cell_type": "markdown",
   "metadata": {},
   "source": [
    "## 2- Feature extraction"
   ]
  },
  {
   "cell_type": "markdown",
   "metadata": {},
   "source": [
    "Given a certain model (e.g. the convolutionnal basse of VGG16 network), we simply passes the data in the input of the model and get the features. This is done using the method *flow_from_dataframe* to avoid loading the whole data in memory."
   ]
  },
  {
   "cell_type": "code",
   "execution_count": 7,
   "metadata": {},
   "outputs": [],
   "source": [
    "df_train = pd.read_csv(\"train_labels.csv\", sep=',', header=0)\n",
    "df_test = pd.read_csv(\"test_labels.csv\", sep=',', header=0)"
   ]
  },
  {
   "cell_type": "code",
   "execution_count": 11,
   "metadata": {},
   "outputs": [],
   "source": [
    "#Extract features from data contained in dictory. Data passes by batches in the model chosen.\n",
    "#Returns the features extracted through the model in  single array\n",
    "def extract_features(dataframe, directory, sample_count, subset):\n",
    "    # Preprocess data\n",
    "    generator = datagen.flow_from_dataframe(\n",
    "        dataframe=dataframe, \n",
    "        directory=directory, \n",
    "        x_col=\"filename\", y_col=\"pathology\", class_mode=\"categorical\",\n",
    "        target_size=(224,224), \n",
    "        batch_size=batch_size, shuffle=True, \n",
    "        interpolation=\"bilinear\",\n",
    "        subset=subset)\n",
    "    print(generator.class_indices)\n",
    "    # Pass data through convolutional base\n",
    "    i = 0\n",
    "    inputs_batch, labels = next(generator)\n",
    "    features = conv_base.predict(inputs_batch)\n",
    "    for inputs_batch, labels_batch in generator:\n",
    "        features_batch = conv_base.predict(inputs_batch)\n",
    "        features = numpy.concatenate((features, features_batch), axis=0)\n",
    "        labels = numpy.concatenate((labels, labels_batch), axis=0)\n",
    "        i += 1\n",
    "        if i * batch_size >= sample_count:\n",
    "            break\n",
    "    return features, labels\n",
    "\n",
    "# Computes the total number of samples used, given validation_ratio and augmentation factor.\n",
    "def compute_num_samples(data_size, validation_ratio, aug_factor):\n",
    "    train_size = int((1-validation_ratio) * data_size * aug_factor)\n",
    "    return train_size"
   ]
  },
  {
   "cell_type": "code",
   "execution_count": 45,
   "metadata": {},
   "outputs": [
    {
     "name": "stdout",
     "output_type": "stream",
     "text": [
      "1318\n"
     ]
    }
   ],
   "source": [
    "valid_ratio = 0.3 # Validation ratio\n",
    "batch_size = 32\n",
    "augmentation = 3 # Augmentation ratio\n",
    "data_size = df_train.shape[0]\n",
    "train_size = compute_num_samples(data_size, valid_ratio, augmentation) #Get number of amples for training\n",
    "valid_size = compute_num_samples(data_size, 1-valid_ratio, augmentation) #Get number of sample for validation\n",
    "conv_base = VGG16(weights='imagenet', include_top=False, input_shape=(224, 224, 3)) #Get convolutionnal base of VGG16\n",
    "\n",
    "datagen = ImageDataGenerator(\n",
    "         rescale=1/255.,\n",
    "         vertical_flip=True,\n",
    "         horizontal_flip=True, \n",
    "         validation_split=valid_ratio)\n",
    "\n",
    "train_features, train_labels = extract_features(df_train, path_train_crop_jpg, train_size, \"training\")\n",
    "validation_features, validation_labels = extract_features(df_train, path_train_crop_jpg, valid_size, \"validation\") "
   ]
  },
  {
   "cell_type": "markdown",
   "metadata": {},
   "source": [
    "## 3 - Classifiers\n",
    "\n",
    "We will now try different classifiers to interpet the features exctracted."
   ]
  },
  {
   "cell_type": "markdown",
   "metadata": {},
   "source": [
    "### 3.1 - Fully Connected Layers"
   ]
  },
  {
   "cell_type": "code",
   "execution_count": null,
   "metadata": {},
   "outputs": [],
   "source": [
    "epochs = 50\n",
    "batch_size = 32\n",
    "model_fc = models.Sequential()\n",
    "model_fc.add(layers.Flatten(input_shape=(7,7,512)))\n",
    "model_fc.add(layers.Dense(512, activation='relu', input_dim=(7*7*512)))\n",
    "model_fc.add(layers.Dense(512, activation='relu'))\n",
    "model_fc.add(layers.Dropout(0.5))\n",
    "model_fc.add(layers.Dense(2, activation='sigmoid'))\n",
    "model_fc.summary()\n",
    "\n",
    "# Compile model\n",
    "model_fc.compile(optimizer=optimizers.Adamax(lr=0.0001),\n",
    "              loss='binary_crossentropy',\n",
    "              metrics=['acc'])\n",
    "              \n",
    "# Train model\n",
    "history_fc = model_fc.fit(train_features, train_labels,\n",
    "                    epochs=epochs,\n",
    "                    batch_size=batch_size, \n",
    "                    validation_data=(validation_features, validation_labels))"
   ]
  },
  {
   "cell_type": "markdown",
   "metadata": {},
   "source": [
    "We now plot the accuracy and the loss for both sets"
   ]
  },
  {
   "cell_type": "code",
   "execution_count": 18,
   "metadata": {},
   "outputs": [],
   "source": [
    "# Plot results\n",
    "import matplotlib.pyplot as plt\n",
    "\n",
    "def plot_history(h, title_acc=None, title_loss=None):\n",
    "    acc = history_ft.history['acc']\n",
    "    val_acc = history_ft.history['val_acc']\n",
    "    loss = history_ft.history['loss']\n",
    "    val_loss = history_ft.history['val_loss']\n",
    "\n",
    "    epochs = range(1, len(acc)+1)\n",
    "\n",
    "    plt.plot(epochs, acc, 'bo', label='Training accuracy')\n",
    "    plt.plot(epochs, val_acc, 'b', label='Validation accuracy')\n",
    "    plt.title('Training and validation accuracy')\n",
    "    plt.legend()\n",
    "    if title_acc!=None:\n",
    "        plt.savefig('{}.png'.format(title_acc))\n",
    "\n",
    "    plt.figure()\n",
    "\n",
    "    plt.plot(epochs, loss, 'bo', label='Training loss')\n",
    "    plt.plot(epochs, val_loss, 'b', label='Validation loss')\n",
    "    \n",
    "    plt.title('Training and validation loss')\n",
    "    plt.legend()\n",
    "    if title_acc!=None:\n",
    "        plt.savefig('{}.png'.format(title_loss))\n",
    "\n",
    "    plt.show()"
   ]
  },
  {
   "cell_type": "code",
   "execution_count": null,
   "metadata": {},
   "outputs": [],
   "source": [
    "plot_history(history_fc, \"example_validation\", \"exemple_loss\")"
   ]
  },
  {
   "cell_type": "markdown",
   "metadata": {},
   "source": [
    "### 3.2 - Global Average Pooling"
   ]
  },
  {
   "cell_type": "code",
   "execution_count": null,
   "metadata": {},
   "outputs": [],
   "source": [
    "### Define model\n",
    "epochs = 120\n",
    "\n",
    "model_gap = models.Sequential()\n",
    "model_gap.add(layers.GlobalAveragePooling2D(input_shape=(7,7,512)))\n",
    "model_gap.add(layers.Dense(2, activation='sigmoid'))\n",
    "model_gap.summary()\n",
    "\n",
    "# Compile model\n",
    "model_gap.compile(optimizer=optimizers.Adamax(lr = 0.05),\n",
    "              loss='binary_crossentropy',\n",
    "              metrics=['acc'])\n",
    "              \n",
    "# Train model\n",
    "history_gap = model_gap.fit(train_features, train_labels,\n",
    "                    epochs=epochs,\n",
    "                    batch_size=batch_size, \n",
    "                    validation_data=(validation_features, validation_labels))"
   ]
  },
  {
   "cell_type": "code",
   "execution_count": null,
   "metadata": {},
   "outputs": [],
   "source": [
    "plot_history(history_gap, \"gap_validation\", \"gap_loss\")"
   ]
  },
  {
   "cell_type": "markdown",
   "metadata": {},
   "source": [
    "### 3.3 Linear SVM Classifier"
   ]
  },
  {
   "cell_type": "markdown",
   "metadata": {},
   "source": [
    "Here we try SVM directly on features extracted with the convolutionnal part. The dimensions of features output is huge, thus the SVM converges very slowly.\n",
    "We concatenate training and validation features because we will use k-fold validation with 10 groups."
   ]
  },
  {
   "cell_type": "code",
   "execution_count": null,
   "metadata": {},
   "outputs": [],
   "source": [
    "# Concatenate training and validation sets\n",
    "svm_features = np.concatenate((train_features, validation_features))\n",
    "svm_labels = np.concatenate((train_labels, validation_labels))"
   ]
  },
  {
   "cell_type": "code",
   "execution_count": null,
   "metadata": {},
   "outputs": [],
   "source": [
    "# Build model\n",
    "import sklearn\n",
    "from sklearn.model_selection import train_test_split, GridSearchCV\n",
    "from sklearn.preprocessing import StandardScaler\n",
    "from sklearn.svm import LinearSVC\n",
    "\n",
    "X_train, y_train = svm_features.reshape(300,7*7*512), svm_labels\n",
    "\n",
    "scaler = StandardScaler(copy=False)\n",
    "scaler.fit(X_train)\n",
    "X_train = scaler.transform(X_train)\n",
    "\n",
    "param = [{\n",
    "          \"C\": [0.01, 0.1, 1, 10, 100]\n",
    "         }]\n",
    " \n",
    "svm = LinearSVC(penalty='l2', loss='squared_hinge', max_iter=2000, dual=\"False\")  # As in Tang (2013)\n",
    "clf = GridSearchCV(svm, param, cv=10)\n",
    "clf.fit(X_train, y_train)"
   ]
  },
  {
   "cell_type": "code",
   "execution_count": null,
   "metadata": {},
   "outputs": [],
   "source": [
    "# Evaluate model\n",
    "from sklearn.model_selection import cross_val_score\n",
    "from sklearn.metrics import accuracy_score\n",
    "\n",
    "print(\"\\nAccuracy score (mean):\")\n",
    "print(np.mean(cross_val_score(clf, X_train, y_train, cv=10)))\n",
    "print(\"\\nAccuracy score (standard deviation):\")\n",
    "print(np.std(cross_val_score(clf, X_train, y_train, cv=10)))"
   ]
  },
  {
   "cell_type": "markdown",
   "metadata": {},
   "source": [
    "## 4. Model Fine Tuning"
   ]
  },
  {
   "cell_type": "markdown",
   "metadata": {},
   "source": [
    "We unfreeze some convolutionnal layers.\n",
    "First we train only the classifier, then keep the classifier weights, unfreeze last convolutionnal layers, and retrain our model."
   ]
  },
  {
   "cell_type": "code",
   "execution_count": 9,
   "metadata": {},
   "outputs": [
    {
     "name": "stdout",
     "output_type": "stream",
     "text": [
      "WARNING:tensorflow:From C:\\Users\\Utilisateur\\Anaconda3\\envs\\tens\\lib\\site-packages\\tensorflow\\python\\framework\\op_def_library.py:263: colocate_with (from tensorflow.python.framework.ops) is deprecated and will be removed in a future version.\n",
      "Instructions for updating:\n",
      "Colocations handled automatically by placer.\n",
      "WARNING:tensorflow:From C:\\Users\\Utilisateur\\Anaconda3\\envs\\tens\\lib\\site-packages\\keras\\backend\\tensorflow_backend.py:3445: calling dropout (from tensorflow.python.ops.nn_ops) with keep_prob is deprecated and will be removed in a future version.\n",
      "Instructions for updating:\n",
      "Please use `rate` instead of `keep_prob`. Rate should be set to `rate = 1 - keep_prob`.\n",
      "<keras.engine.input_layer.InputLayer object at 0x0000029E4D194BE0>: False\n",
      "<keras.layers.convolutional.Conv2D object at 0x0000029E53038BE0>: False\n",
      "<keras.layers.convolutional.Conv2D object at 0x0000029E53038A20>: False\n",
      "<keras.layers.pooling.MaxPooling2D object at 0x0000029E53048CF8>: False\n",
      "<keras.layers.convolutional.Conv2D object at 0x0000029E530485C0>: False\n",
      "<keras.layers.convolutional.Conv2D object at 0x0000029E53094EF0>: False\n",
      "<keras.layers.pooling.MaxPooling2D object at 0x0000029E530B7C88>: False\n",
      "<keras.layers.convolutional.Conv2D object at 0x0000029E530B7F28>: False\n",
      "<keras.layers.convolutional.Conv2D object at 0x0000029E530CAC18>: False\n",
      "<keras.layers.convolutional.Conv2D object at 0x0000029E5310E7B8>: False\n",
      "<keras.layers.pooling.MaxPooling2D object at 0x0000029E53129D68>: False\n",
      "<keras.layers.convolutional.Conv2D object at 0x0000029E53129CF8>: False\n",
      "<keras.layers.convolutional.Conv2D object at 0x0000029E5315B668>: False\n",
      "<keras.layers.convolutional.Conv2D object at 0x0000029E53190438>: False\n",
      "<keras.layers.pooling.MaxPooling2D object at 0x0000029E531A3978>: False\n",
      "<keras.layers.convolutional.Conv2D object at 0x0000029E531A3A20>: False\n",
      "<keras.layers.convolutional.Conv2D object at 0x0000029E531DDA20>: False\n",
      "<keras.layers.convolutional.Conv2D object at 0x0000029E531F2B70>: False\n",
      "<keras.layers.pooling.MaxPooling2D object at 0x0000029E53226DA0>: False\n",
      "<keras.layers.core.Flatten object at 0x0000029E53291E48>: True\n",
      "<keras.layers.core.Dense object at 0x0000029E5323EF60>: True\n",
      "<keras.layers.core.Dense object at 0x0000029E56B5C438>: True\n",
      "<keras.layers.core.Dropout object at 0x0000029E56B77EB8>: True\n",
      "<keras.layers.core.Dense object at 0x0000029E56B7FDA0>: True\n"
     ]
    }
   ],
   "source": [
    "# load the VGG16 network, ensuring the head FC layer sets are left\n",
    "# off\n",
    "baseModel = VGG16(weights=\"imagenet\", include_top=False, input_tensor=layers.Input(shape=(224, 224, 3)))\n",
    " \n",
    "# construct the head of the model that will be placed on top of the\n",
    "# the base model\n",
    "headModel = baseModel.output\n",
    "headModel = layers.Flatten(name=\"flatten\")(headModel)\n",
    "headModel = layers.Dense(512, activation=\"relu\")(headModel)\n",
    "headModel = layers.Dense(512, activation=\"relu\")(headModel)\n",
    "headModel = layers.Dropout(0.2)(headModel)\n",
    "headModel = layers.Dense(2, activation=\"sigmoid\")(headModel)\n",
    "\n",
    "# place the head FC model on top of the base model (this will become\n",
    "# the actual model we will train)\n",
    "model_ft = Model(inputs=baseModel.input, outputs=headModel)\n",
    "\n",
    "for layer in model_ft.layers[:19]:\n",
    "\n",
    "# loop over the layers in the model and show which ones are trainable\n",
    "# or not\tlayer.trainable = False\n",
    "\n",
    "for layer in model_ft.layers:\n",
    "\tprint(\"{}: {}\".format(layer, layer.trainable))"
   ]
  },
  {
   "cell_type": "code",
   "execution_count": 15,
   "metadata": {},
   "outputs": [
    {
     "name": "stdout",
     "output_type": "stream",
     "text": [
      "<keras.engine.input_layer.InputLayer object at 0x0000029E4D194BE0>: False\n",
      "<keras.layers.convolutional.Conv2D object at 0x0000029E53038BE0>: False\n",
      "<keras.layers.convolutional.Conv2D object at 0x0000029E53038A20>: False\n",
      "<keras.layers.pooling.MaxPooling2D object at 0x0000029E53048CF8>: False\n",
      "<keras.layers.convolutional.Conv2D object at 0x0000029E530485C0>: False\n",
      "<keras.layers.convolutional.Conv2D object at 0x0000029E53094EF0>: False\n",
      "<keras.layers.pooling.MaxPooling2D object at 0x0000029E530B7C88>: False\n",
      "<keras.layers.convolutional.Conv2D object at 0x0000029E530B7F28>: False\n",
      "<keras.layers.convolutional.Conv2D object at 0x0000029E530CAC18>: False\n",
      "<keras.layers.convolutional.Conv2D object at 0x0000029E5310E7B8>: False\n",
      "<keras.layers.pooling.MaxPooling2D object at 0x0000029E53129D68>: False\n",
      "<keras.layers.convolutional.Conv2D object at 0x0000029E53129CF8>: False\n",
      "<keras.layers.convolutional.Conv2D object at 0x0000029E5315B668>: False\n",
      "<keras.layers.convolutional.Conv2D object at 0x0000029E53190438>: False\n",
      "<keras.layers.pooling.MaxPooling2D object at 0x0000029E531A3978>: False\n",
      "<keras.layers.convolutional.Conv2D object at 0x0000029E531A3A20>: True\n",
      "<keras.layers.convolutional.Conv2D object at 0x0000029E531DDA20>: True\n",
      "<keras.layers.convolutional.Conv2D object at 0x0000029E531F2B70>: True\n",
      "<keras.layers.pooling.MaxPooling2D object at 0x0000029E53226DA0>: True\n",
      "<keras.layers.core.Flatten object at 0x0000029E53291E48>: True\n",
      "<keras.layers.core.Dense object at 0x0000029E5323EF60>: True\n",
      "<keras.layers.core.Dense object at 0x0000029E56B5C438>: True\n",
      "<keras.layers.core.Dropout object at 0x0000029E56B77EB8>: True\n",
      "<keras.layers.core.Dense object at 0x0000029E56B7FDA0>: True\n"
     ]
    }
   ],
   "source": [
    "#Execute this cell to freeze or unfreeze layers\n",
    "for layer in model_ft.layers[:15]:\n",
    "\tlayer.trainable = False\n",
    "    \n",
    "for layer in model_ft.layers:\n",
    "\tprint(\"{}: {}\".format(layer, layer.trainable))"
   ]
  },
  {
   "cell_type": "code",
   "execution_count": 16,
   "metadata": {},
   "outputs": [
    {
     "name": "stdout",
     "output_type": "stream",
     "text": [
      "1318\n",
      "Found 923 images belonging to 2 classes.\n",
      "Found 395 images belonging to 2 classes.\n",
      "Epoch 1/10\n",
      "87/86 [==============================] - 253s 3s/step - loss: 0.6433 - acc: 0.6497 - val_loss: 0.6187 - val_acc: 0.6840\n",
      "Epoch 2/10\n",
      "87/86 [==============================] - 120s 1s/step - loss: 0.5222 - acc: 0.7465 - val_loss: 0.5472 - val_acc: 0.7476\n",
      "Epoch 3/10\n",
      "87/86 [==============================] - 120s 1s/step - loss: 0.4539 - acc: 0.7926 - val_loss: 0.5482 - val_acc: 0.7446\n",
      "Epoch 4/10\n",
      "87/86 [==============================] - 120s 1s/step - loss: 0.4353 - acc: 0.7976 - val_loss: 0.5870 - val_acc: 0.7450\n",
      "Epoch 5/10\n",
      "87/86 [==============================] - 120s 1s/step - loss: 0.4103 - acc: 0.8158 - val_loss: 0.5839 - val_acc: 0.7454\n",
      "Epoch 6/10\n",
      "87/86 [==============================] - 121s 1s/step - loss: 0.3666 - acc: 0.8456 - val_loss: 0.5825 - val_acc: 0.7389\n",
      "Epoch 7/10\n",
      "87/86 [==============================] - 120s 1s/step - loss: 0.3536 - acc: 0.8548 - val_loss: 0.6434 - val_acc: 0.7038\n",
      "Epoch 8/10\n",
      "87/86 [==============================] - 120s 1s/step - loss: 0.3337 - acc: 0.8590 - val_loss: 0.6433 - val_acc: 0.7329\n",
      "Epoch 9/10\n",
      "87/86 [==============================] - 120s 1s/step - loss: 0.2965 - acc: 0.8804 - val_loss: 0.6390 - val_acc: 0.7533\n",
      "Epoch 10/10\n",
      "87/86 [==============================] - 120s 1s/step - loss: 0.2637 - acc: 0.8958 - val_loss: 0.7227 - val_acc: 0.7385\n"
     ]
    }
   ],
   "source": [
    "valid_ratio = 0.3\n",
    "batch_size = 32\n",
    "augmentation = 3\n",
    "data_size = df_train.shape[0]\n",
    "print(df_train.shape[0])\n",
    "train_size = compute_num_samples(data_size, valid_ratio, augmentation)\n",
    "valid_size = compute_num_samples(data_size, 1-valid_ratio, augmentation)\n",
    "\n",
    "datagen = ImageDataGenerator(\n",
    "         rescale=1/255.,\n",
    "         vertical_flip=True,\n",
    "         horizontal_flip=True, \n",
    "         validation_split=valid_ratio)\n",
    "\n",
    "# Preprocess data\n",
    "train_generator = datagen.flow_from_dataframe(\n",
    "    dataframe=df_train, \n",
    "    directory=path_train_crop_jpg, \n",
    "    x_col=\"filename\", y_col=\"pathology\", class_mode=\"categorical\",\n",
    "    target_size=(224,224), \n",
    "    batch_size=batch_size, shuffle=True, \n",
    "    interpolation=\"bilinear\",\n",
    "    subset=\"training\")\n",
    "\n",
    "valid_generator = datagen.flow_from_dataframe(\n",
    "    dataframe=df_train, \n",
    "    directory=path_train_crop_jpg, \n",
    "    x_col=\"filename\", y_col=\"pathology\", class_mode=\"categorical\",\n",
    "    target_size=(224,224), \n",
    "    batch_size=batch_size, shuffle=True, \n",
    "    interpolation=\"bilinear\",\n",
    "    subset=\"validation\")\n",
    "\n",
    "model_ft.compile(optimizer=optimizers.Adamax(0.0001),\n",
    "              loss='binary_crossentropy',\n",
    "              metrics=['acc'])\n",
    "\n",
    "history_ft = model_ft.fit_generator(\n",
    "        train_generator,\n",
    "        epochs=10,\n",
    "        steps_per_epoch = train_size/batch_size,\n",
    "        validation_data=valid_generator,\n",
    "        validation_steps = valid_size/batch_size)"
   ]
  },
  {
   "cell_type": "code",
   "execution_count": 34,
   "metadata": {},
   "outputs": [
    {
     "data": {
      "image/png": "[encoded data removed]",
      "text/plain": [
       "<Figure size 432x288 with 1 Axes>"
      ]
     },
     "metadata": {
      "needs_background": "light"
     },
     "output_type": "display_data"
    },
    {
     "data": {
      "image/png": "[encoded data removed]",
      "text/plain": [
       "<Figure size 432x288 with 1 Axes>"
      ]
     },
     "metadata": {
      "needs_background": "light"
     },
     "output_type": "display_data"
    }
   ],
   "source": [
    "plot_history(history_ft, \"gap_validation\", \"gap_loss\")"
   ]
  },
  {
   "cell_type": "markdown",
   "metadata": {},
   "source": [
    "## 5 - SVM Classifying on reduced number of features"
   ]
  },
  {
   "cell_type": "markdown",
   "metadata": {},
   "source": [
    "We pass the validation data through Neural Network, then we train the SVM with this data. We only classifiy the two features extracted by the previous DCNN. We should consider several kernel for the SVM, as linear one or Medium Gaussian one."
   ]
  },
  {
   "cell_type": "markdown",
   "metadata": {},
   "source": [
    "### 5.1 Training of the svm"
   ]
  },
  {
   "cell_type": "markdown",
   "metadata": {},
   "source": [
    "Exec the following cell if you use only convolutionnal base (see part 2) to extract features. Otherwise re-generate network output with\n",
    "next cell"
   ]
  },
  {
   "cell_type": "code",
   "execution_count": 87,
   "metadata": {},
   "outputs": [
    {
     "data": {
      "text/plain": [
       "array([1, 1, 1, ..., 1, 1, 0])"
      ]
     },
     "execution_count": 87,
     "metadata": {},
     "output_type": "execute_result"
    }
   ],
   "source": [
    "# Exec this code if you use only convolutionnal base (see part 2) to extract features. Otherwise re-generate network output with\n",
    "# next cell\n",
    "svm_features = numpy.concatenate((train_features, validation_features))\n",
    "svm_labels = numpy.concatenate((train_labels, validation_labels))[:,0]\n",
    "net_output = model_fc.predict(validation_features)\n",
    "svm_labels = validation_labels[:,0] # Create a 1D vector of labels\n",
    "svm_labels = svm_labels.astype(int)\n",
    "svm_labels"
   ]
  },
  {
   "cell_type": "code",
   "execution_count": 13,
   "metadata": {},
   "outputs": [],
   "source": [
    "i = 0\n",
    "inputs_batch, labels = next(valid_generator)\n",
    "features = model_ft.predict(inputs_batch)\n",
    "for inputs_batch, labels_batch in valid_generator:\n",
    "        features_batch = model_ft.predict(inputs_batch)\n",
    "        features = numpy.concatenate((features, features_batch), axis=0)\n",
    "        labels = numpy.concatenate((labels, labels_batch), axis=0)\n",
    "        i+=1\n",
    "        if i*32>395*4:\n",
    "            break"
   ]
  },
  {
   "cell_type": "code",
   "execution_count": null,
   "metadata": {},
   "outputs": [],
   "source": [
    "# Re-formate labels as 1D array\n",
    "svm_labels = validation_labels[:,0]\n",
    "svm_labels = svm_labels.astype(int)\n",
    "svm_labels"
   ]
  },
  {
   "cell_type": "markdown",
   "metadata": {},
   "source": [
    "We train the model and evaualte it with k-fold validation"
   ]
  },
  {
   "cell_type": "code",
   "execution_count": null,
   "metadata": {},
   "outputs": [],
   "source": [
    "# Build model\n",
    "import sklearn\n",
    "from sklearn.model_selection import train_test_split, GridSearchCV\n",
    "from sklearn.preprocessing import StandardScaler\n",
    "from sklearn.svm import LinearSVC\n",
    "\n",
    "X_train2, y_train = features.copy(), labels[:,0]\n",
    "\n",
    "scaler = StandardScaler(copy=False)\n",
    "scaler.fit(X_train2)\n",
    "X_train2 = scaler.transform(X_train2)\n",
    "\n",
    "param = [{\n",
    "          \"C\": [0.01, 0.1, 1, 10, 100]\n",
    "         }]\n",
    " \n",
    "svm = LinearSVC(penalty='l2', loss='squared_hinge', max_iter=2000, dual=\"False\")  # As in Tang (2013)\n",
    "clf = GridSearchCV(svm, param, cv=10)\n",
    "print(y_train.shape)\n",
    "clf.fit(X_train2, y_train)"
   ]
  },
  {
   "cell_type": "code",
   "execution_count": null,
   "metadata": {},
   "outputs": [],
   "source": [
    "from sklearn.model_selection import cross_val_score\n",
    "from sklearn.metrics import accuracy_score\n",
    "\n",
    "print(\"\\nAccuracy score (mean):\")\n",
    "print(numpy.mean(cross_val_score(clf, X_train2, y_train, cv=10)))\n",
    "print(\"\\nAccuracy score (standard deviation):\")\n",
    "print(numpy.std(cross_val_score(clf, X_train2, y_train, cv=10)))"
   ]
  },
  {
   "cell_type": "markdown",
   "metadata": {},
   "source": [
    "### 5.2 Test of the classifier on test data"
   ]
  },
  {
   "cell_type": "markdown",
   "metadata": {},
   "source": [
    "We can choose to use the SVM or not, depending on the function we choose."
   ]
  },
  {
   "cell_type": "code",
   "execution_count": 18,
   "metadata": {},
   "outputs": [],
   "source": [
    "from keras.preprocessing import image\n",
    "def compute_predicitons(classifier, path_test_jpg, df_test_labels):\n",
    "    n_img = df_test_labels.shape[0]\n",
    "    c_fp = 0.\n",
    "    c_fn = 0.\n",
    "    c_tp = 0.\n",
    "    c_tn = 0.\n",
    "    for index, row in df_test_labels.iterrows():\n",
    "        img_path = os.path.join(path_test_jpg, row.filename)\n",
    "        img = image.load_img(img_path, target_size=(224, 224))\n",
    "        img_tensor = image.img_to_array(img)  # Image data encoded as integers in the 0–255 range\n",
    "        img_tensor /= 255.  # Normalize to [0,1] for plt.imshow application\n",
    "\n",
    "        prediction = classifier.predict(img_tensor.reshape(1,224, 224, 3))\n",
    "        if prediction[0,1] < 0.5:\n",
    "            if row.pathology == \"BENIGN\":\n",
    "                c_tn += 1\n",
    "            else:\n",
    "                c_fn += 1\n",
    "        else:\n",
    "            if row.pathology == \"BENIGN\":\n",
    "                c_fp += 1\n",
    "            else:\n",
    "                c_tp += 1\n",
    "    return (c_tp+c_tn)/n_img, c_tp/(c_tp+c_fn), c_tn/(c_tn+c_fp), c_tp/(c_tp+c_fp)  "
   ]
  },
  {
   "cell_type": "code",
   "execution_count": 17,
   "metadata": {},
   "outputs": [],
   "source": [
    "from keras.preprocessing import image\n",
    "def compute_predicitons_with_svm(classifier, path_test_jpg, df_test_labels):\n",
    "    n_img = df_test_labels.shape[0]\n",
    "    c_fp = 0.\n",
    "    c_fn = 0.\n",
    "    c_tp = 0.\n",
    "    c_tn = 0.\n",
    "    svl_input = numpy.array([[0,0]])\n",
    "    for index, row in df_test_labels.iterrows():\n",
    "        img_path = os.path.join(path_test_jpg, row.filename)\n",
    "        img = image.load_img(img_path, target_size=(224, 224))\n",
    "        img_tensor = image.img_to_array(img)  # Image data encoded as integers in the 0–255 range\n",
    "        img_tensor /= 255.  # Normalize to [0,1] for plt.imshow application\n",
    "        prediction = classifier.predict(img_tensor.reshape(1,224, 224, 3))\n",
    "        svl_input = numpy.concatenate((svl_input, prediction), axis=0)\n",
    "    svl_input = scaler.transform(svl_input) # We shall use the same scaler than the one used to train the SVM\n",
    "    predictions = clf.predict(svl_input)\n",
    "    for index, row in df_test_labels.iterrows():\n",
    "        if predictions[index+1] > 0.5:\n",
    "            if row.pathology == \"BENIGN\":\n",
    "                c_tn += 1\n",
    "            else:\n",
    "                c_fn += 1\n",
    "        else:\n",
    "            if row.pathology == \"BENIGN\":\n",
    "                c_fp += 1\n",
    "            else:\n",
    "                c_tp += 1\n",
    "    return (c_tp+c_tn)/n_img, c_tp/(c_tp+c_fn), c_tn/(c_tn+c_fp), c_tp/(c_tp+c_fp)"
   ]
  },
  {
   "cell_type": "code",
   "execution_count": 20,
   "metadata": {},
   "outputs": [
    {
     "name": "stdout",
     "output_type": "stream",
     "text": [
      "0.6904761904761905 0.2510822510822511 0.5986394557823129\n"
     ]
    }
   ],
   "source": [
    "path_labels_test = \"./../CBIS-DDSM/mass_case_description_test_set.csv\"\n",
    "path_mass_test_jpg = \"./../CBIS-DDSM/test_crop_mass_jpg/\"\n",
    "acc, sensitivity, specificity, precision  = compute_predicitons_with_svm(model_ft, path_test_crop_jpg, df_test)\n",
    "print(acc, sensitivity, specificity, precision)"
   ]
  },
  {
   "cell_type": "markdown",
   "metadata": {},
   "source": [
    "Next step : compute the ROC curve the the AUC associated..."
   ]
  }
 ],
 "metadata": {
  "kernelspec": {
   "display_name": "Python 3",
   "language": "python",
   "name": "python3"
  },
  "language_info": {
   "codemirror_mode": {
    "name": "ipython",
    "version": 3
   },
   "file_extension": ".py",
   "mimetype": "text/x-python",
   "name": "python",
   "nbconvert_exporter": "python",
   "pygments_lexer": "ipython3",
   "version": "3.6.8"
  }
 },
 "nbformat": 4,
 "nbformat_minor": 2
}
